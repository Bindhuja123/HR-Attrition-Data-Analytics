{
 "cells": [
  {
   "cell_type": "markdown",
   "metadata": {
    "id": "RE593AegAffh"
   },
   "source": [
    "<center><img src=\"https://images.pexels.com/photos/3184360/pexels-photo-3184360.jpeg?auto=compress&cs=tinysrgb&w=1260&h=750&dpr=2\" width=\"800\" height=\"500\"></center>\n",
    "\n",
    "<b><h2><center>HR Employee Attrition Case Study</center></h2></b>"
   ]
  },
  {
   "cell_type": "markdown",
   "metadata": {
    "id": "Z30PNakMB4S1"
   },
   "source": [
    "## Problem Statement"
   ]
  },
  {
   "cell_type": "markdown",
   "metadata": {
    "id": "OXtZMNzC_2Ni"
   },
   "source": [
    "### Background :\n",
    "McCurr Consultancy is an MNC that has thousands of employees spread across the globe. The company believes in hiring the best talent available and retaining them for as long as possible. A huge amount of resources is spent on retaining existing employees through various initiatives. The Head of People Operations wants to bring down the cost of retaining employees. For this, he proposes limiting the incentives to only those employees who are at risk of attrition. As a recently hired Data Scientist in the People Operations Department, you have been asked to identify patterns in characteristics of employees who leave the organization. Also, you have to use this information to predict if an employee is at risk of attrition. This information will be used to target them with incentives.\n",
    "\n",
    "### Objective :\n",
    "\n",
    "You, as a Data Scientist at McCurr Consultancy, are tasked with analyzing the data provided to identify the different factors that drive attrition, and build a model that can help to predict attrition.\n",
    "\n",
    "\n",
    "### Dataset :\n",
    "The data contains demographic details, work-related metrics and attrition flag.\n",
    "\n",
    "* EmployeeNumber - Employee Identifier\n",
    "* Attrition - Did the employee attrite?\n",
    "* Age - Age of the employee\n",
    "* BusinessTravel - Travel commitments for the job\n",
    "* DailyRate - Data description not available**\n",
    "* Department - Employee Department\n",
    "* DistanceFromHome - Distance from work to home (in km)\n",
    "* Education - 1-Below College, 2-College, 3-Bachelor, 4-Master,5-Doctor\n",
    "* EducationField - Field of Education\n",
    "* EmployeeCount - Employee Count in a row\n",
    "* EnvironmentSatisfaction - 1-Low, 2-Medium, 3-High, 4-Very High\n",
    "* Gender - Employee's gender\n",
    "* HourlyRate - Data description not available**\n",
    "* JobInvolvement - 1-Low, 2-Medium, 3-High, 4-Very High\n",
    "* JobLevel - Level of job (1 to 5)\n",
    "* JobRole - Job Roles\n",
    "* JobSatisfaction - 1-Low, 2-Medium, 3-High, 4-Very High\n",
    "* MaritalStatus - Marital Status\n",
    "* MonthlyIncome - Monthly Salary\n",
    "* MonthlyRate - Data description not available**\n",
    "* NumCompaniesWorked - Number of companies worked at\n",
    "* Over18 - Over 18 years of age?\n",
    "* OverTime - Overtime?\n",
    "* PercentSalaryHike - The percentage increase in salary last year\n",
    "* PerformanceRating - 1-Low, 2-Good, 3-Excellent, 4-Outstanding\n",
    "* RelationshipSatisfaction - 1-Low, 2-Medium, 3-High, 4-Very High\n",
    "* StandardHours - Standard Hours\n",
    "* StockOptionLevel - Stock Option Level\n",
    "* TotalWorkingYears - Total years worked\n",
    "* TrainingTimesLastYear - Number of training attended last year\n",
    "* WorkLifeBalance - 1-Low, 2-Good, 3-Excellent, 4-Outstanding\n",
    "* YearsAtCompany - Years at Company\n",
    "* YearsInCurrentRole - Years in the current role\n",
    "* YearsSinceLastPromotion - Years since the last promotion\n",
    "* YearsWithCurrManager - Years with the current manager\n",
    "\n",
    "** **In the real world, you will not find definitions for some of your variables. It is a part of the analysis to figure out what they might mean.**"
   ]
  },
  {
   "cell_type": "markdown",
   "metadata": {
    "id": "yqXiq3-L_2Nn"
   },
   "source": [
    "## Importing necessary libraries"
   ]
  },
  {
   "cell_type": "code",
   "execution_count": null,
   "metadata": {
    "id": "4tB2xJg5_2No"
   },
   "outputs": [],
   "source": [
    "# Libraries to help with reading and manipulating data\n",
    "import numpy as np\n",
    "import pandas as pd\n",
    "\n",
    "# libaries to help with data visualization\n",
    "import matplotlib.pyplot as plt\n",
    "import seaborn as sns\n",
    "\n",
    "# Library to split data\n",
    "from sklearn.model_selection import train_test_split\n",
    "\n",
    "from sklearn import tree\n",
    "from sklearn.tree import DecisionTreeClassifier\n",
    "from sklearn.ensemble import BaggingClassifier\n",
    "from sklearn.ensemble import RandomForestClassifier\n",
    "from sklearn.ensemble import AdaBoostClassifier\n",
    "from sklearn.ensemble import GradientBoostingClassifier\n",
    "\n",
    "\n",
    "from sklearn import metrics\n",
    "from sklearn.metrics import confusion_matrix, classification_report\n",
    "from sklearn.metrics import accuracy_score,precision_score,recall_score,f1_score, roc_auc_score\n",
    "import scipy.stats as stats\n",
    "\n",
    "import warnings\n",
    "warnings.filterwarnings('ignore')"
   ]
  },
  {
   "cell_type": "markdown",
   "metadata": {
    "id": "a9ZMNfUNhU14"
   },
   "source": [
    "## Reading the dataset"
   ]
  },
  {
   "cell_type": "code",
   "execution_count": null,
   "metadata": {
    "colab": {
     "base_uri": "https://localhost:8080/"
    },
    "id": "P2FflAozADG6",
    "outputId": "51a71fe1-4700-4bf2-9bd3-9b7bb242e2b4"
   },
   "outputs": [],
   "source": [
    "from google.colab import drive\n",
    "drive.mount('/content/drive')"
   ]
  },
  {
   "cell_type": "code",
   "execution_count": null,
   "metadata": {
    "id": "qI7U2ePb_2Np"
   },
   "outputs": [],
   "source": [
    "hr=pd.read_csv(\"/content/drive/MyDrive/Datasets/HR_Employee_Attrition-1.csv\")"
   ]
  },
  {
   "cell_type": "code",
   "execution_count": null,
   "metadata": {
    "id": "tIPedvgm_2Nq"
   },
   "outputs": [],
   "source": [
    "# copying data to another varaible to avoid any changes to original data\n",
    "data=hr.copy()"
   ]
  },
  {
   "cell_type": "markdown",
   "metadata": {
    "id": "yt0TxgANCKgL"
   },
   "source": [
    "## Overview of the dataset"
   ]
  },
  {
   "cell_type": "markdown",
   "metadata": {
    "id": "JW7R_h0T_2Nq"
   },
   "source": [
    "### View the first and last 5 rows of the dataset."
   ]
  },
  {
   "cell_type": "code",
   "execution_count": null,
   "metadata": {
    "colab": {
     "base_uri": "https://localhost:8080/",
     "height": 369
    },
    "id": "uJYEARoa_2Nr",
    "outputId": "6178f431-9ced-414b-b54f-04c2e59e771d",
    "scrolled": true
   },
   "outputs": [],
   "source": [
    "data.head()"
   ]
  },
  {
   "cell_type": "code",
   "execution_count": null,
   "metadata": {
    "colab": {
     "base_uri": "https://localhost:8080/",
     "height": 369
    },
    "id": "_2-bb3tQ_2Ns",
    "outputId": "4d939993-4ff8-415a-93bc-f20639e013d5"
   },
   "outputs": [],
   "source": [
    "data.tail()"
   ]
  },
  {
   "cell_type": "markdown",
   "metadata": {
    "id": "dEuSu6e4hU2e"
   },
   "source": [
    "### Understand the shape of the dataset."
   ]
  },
  {
   "cell_type": "code",
   "execution_count": null,
   "metadata": {
    "colab": {
     "base_uri": "https://localhost:8080/"
    },
    "id": "eCpZ-hBS_2Nt",
    "outputId": "d2925331-9cf7-482b-e0e1-97735415a59b"
   },
   "outputs": [],
   "source": [
    "data.shape"
   ]
  },
  {
   "cell_type": "markdown",
   "metadata": {
    "id": "0SYT3p8x_2Nt"
   },
   "source": [
    "* The dataset has 2940 rows and 35 columns of data"
   ]
  },
  {
   "cell_type": "markdown",
   "metadata": {
    "id": "mwAu-vEwhU2m"
   },
   "source": [
    "### Check the data types of the columns for the dataset."
   ]
  },
  {
   "cell_type": "code",
   "execution_count": null,
   "metadata": {
    "colab": {
     "base_uri": "https://localhost:8080/"
    },
    "id": "y727lZV__2Nt",
    "outputId": "225ba641-6851-4ad0-d358-3bfff6eb3fec"
   },
   "outputs": [],
   "source": [
    "data.info()"
   ]
  },
  {
   "cell_type": "markdown",
   "metadata": {
    "id": "X2X_FLxThU2q"
   },
   "source": [
    "**Observations -**\n",
    "* There are no null values in the dataset.\n",
    "* We can convert the object type columns to categories.\n",
    "\n",
    "`converting \"objects\" to \"category\" reduces the data space required to store the dataframe`"
   ]
  },
  {
   "cell_type": "markdown",
   "metadata": {
    "id": "_SPOiNV6_2Nu"
   },
   "source": [
    "### Fixing the data types"
   ]
  },
  {
   "cell_type": "code",
   "execution_count": null,
   "metadata": {
    "colab": {
     "base_uri": "https://localhost:8080/"
    },
    "id": "cuqLngFF_2Nu",
    "outputId": "b1fb5ce4-5c31-4f4d-de6c-dee279998606"
   },
   "outputs": [],
   "source": [
    "cols = data.select_dtypes(['object'])\n",
    "cols.columns"
   ]
  },
  {
   "cell_type": "code",
   "execution_count": null,
   "metadata": {
    "id": "Dyl7dOoo_2Nu"
   },
   "outputs": [],
   "source": [
    "for i in cols.columns:\n",
    "    data[i] = data[i].astype('category')"
   ]
  },
  {
   "cell_type": "code",
   "execution_count": null,
   "metadata": {
    "colab": {
     "base_uri": "https://localhost:8080/"
    },
    "id": "ucm3gKZB_2Nv",
    "outputId": "da00d090-4ea3-4d09-8aa4-5072313f14be"
   },
   "outputs": [],
   "source": [
    "data.info()"
   ]
  },
  {
   "cell_type": "markdown",
   "metadata": {
    "id": "qLXPqi7Y_2Nv"
   },
   "source": [
    "`we can see that the memory usage has decreased from 804 KB to 624.4 KB`, this technique is generally useful for bigger datasets."
   ]
  },
  {
   "cell_type": "markdown",
   "metadata": {
    "id": "7E1orwlJhU20"
   },
   "source": [
    "### Summary of the dataset"
   ]
  },
  {
   "cell_type": "code",
   "execution_count": null,
   "metadata": {
    "colab": {
     "base_uri": "https://localhost:8080/",
     "height": 864
    },
    "id": "pwFutcfV_2Nv",
    "outputId": "31e5a6af-2113-4e00-cb39-4ccfc8e5a723"
   },
   "outputs": [],
   "source": [
    "data.describe().T"
   ]
  },
  {
   "cell_type": "markdown",
   "metadata": {
    "id": "jhDH5sWP_2Nw"
   },
   "source": [
    "* EmployeeNumber is an ID variable and not useful for predictive modelling.\n",
    "* Age of the employees range from 18 to 60 years and the average age is 36 years.\n",
    "* EmployeeCount has only 1 as the value in all the rows and can be dropped as it will not be adding any information to our analysis.\n",
    "* Standard Hours has only 80 as the value in all the rows and can be dropped as it will not be adding any information to our analysis.\n",
    "* Hourly rate has a huge range, but we do not know what this variable stands for, yet. The same goes for daily and monthly rates.\n",
    "* Monthly Income has a high range and the difference in mean and median indicate the presence of outliers."
   ]
  },
  {
   "cell_type": "code",
   "execution_count": null,
   "metadata": {
    "colab": {
     "base_uri": "https://localhost:8080/",
     "height": 331
    },
    "id": "WIqTzdc__2Nw",
    "outputId": "cb7cb3db-bc56-49df-f3b6-fdeaeccabfe4"
   },
   "outputs": [],
   "source": [
    "data.describe(include=['category']).T"
   ]
  },
  {
   "cell_type": "markdown",
   "metadata": {
    "id": "KDRU3ARs_2Nw"
   },
   "source": [
    "* Attrition is our target variable with 84% records 'No' or employee will not attrite.\n",
    "* Majority of the employees have low business travel requirements\n",
    "* Majority of the employees are from the Research and Development department.\n",
    "* All employees are over 18 years of age -  we can drop this variable as it will not be adding any information to our analysis.\n",
    "* There are more male employees than female employees."
   ]
  },
  {
   "cell_type": "markdown",
   "metadata": {
    "id": "-Rgykjj3_2Nw"
   },
   "source": [
    "**Dropping columns which are not adding any information.**"
   ]
  },
  {
   "cell_type": "code",
   "execution_count": null,
   "metadata": {
    "id": "IbHjeV6U_2Nw"
   },
   "outputs": [],
   "source": [
    "data.drop(['EmployeeNumber','EmployeeCount','StandardHours','Over18'],axis=1,inplace=True)"
   ]
  },
  {
   "cell_type": "markdown",
   "metadata": {
    "id": "rtQVC1FP_2Nx"
   },
   "source": [
    "**Let's look at the unique values of all the categories**"
   ]
  },
  {
   "cell_type": "code",
   "execution_count": null,
   "metadata": {
    "id": "Bo4V6Y-T_2Nx"
   },
   "outputs": [],
   "source": [
    "cols_cat= data.select_dtypes(['category'])"
   ]
  },
  {
   "cell_type": "code",
   "execution_count": null,
   "metadata": {
    "colab": {
     "base_uri": "https://localhost:8080/"
    },
    "id": "auHzXOOU_2Nx",
    "outputId": "47c5258c-4c5f-4bd6-b609-f7b9a0806688"
   },
   "outputs": [],
   "source": [
    "for i in cols_cat.columns:\n",
    "    print('Unique values in',i, 'are :')\n",
    "    print(cols_cat[i].value_counts())\n",
    "    print('*'*50)"
   ]
  },
  {
   "cell_type": "code",
   "execution_count": null,
   "metadata": {
    "id": "Bn1gJymC2DOH"
   },
   "outputs": [],
   "source": [
    "df = data.copy()"
   ]
  },
  {
   "cell_type": "markdown",
   "metadata": {
    "id": "kUJ_B5KxhU3D"
   },
   "source": [
    "## <a name='link2'>Exploratory Data Analysis (EDA) Summary</a>"
   ]
  },
  {
   "cell_type": "markdown",
   "metadata": {
    "id": "x6xjBh-2FQJ_"
   },
   "source": [
    "### **Note**: The EDA section has been covered multiple times in the previous case studies. In this case study, we will mainly focus on the model building aspects. We will only be looking at the key observations from EDA. The detailed EDA can be found in the <a href = #link1>appendix section</a>."
   ]
  },
  {
   "cell_type": "markdown",
   "metadata": {
    "id": "6yP5v_XQFrn-"
   },
   "source": [
    "**The below functions need to be defined to carry out the EDA.**"
   ]
  },
  {
   "cell_type": "code",
   "execution_count": null,
   "metadata": {
    "id": "1GKNNVIt_2Nx"
   },
   "outputs": [],
   "source": [
    "def histogram_boxplot(data, feature, figsize=(15, 10), kde=False, bins=None):\n",
    "    \"\"\"\n",
    "    Boxplot and histogram combined\n",
    "\n",
    "    data: dataframe\n",
    "    feature: dataframe column\n",
    "    figsize: size of figure (default (15,10))\n",
    "    kde: whether to show the density curve (default False)\n",
    "    bins: number of bins for histogram (default None)\n",
    "    \"\"\"\n",
    "    f2, (ax_box2, ax_hist2) = plt.subplots(\n",
    "        nrows=2,  # Number of rows of the subplot grid= 2\n",
    "        sharex=True,  # x-axis will be shared among all subplots\n",
    "        gridspec_kw={\"height_ratios\": (0.25, 0.75)},\n",
    "        figsize=figsize,\n",
    "    )  # creating the 2 subplots\n",
    "    sns.boxplot(\n",
    "        data=data, x=feature, ax=ax_box2, showmeans=True, color=\"violet\"\n",
    "    )  # boxplot will be created and a triangle will indicate the mean value of the column\n",
    "    sns.histplot(\n",
    "        data=data, x=feature, kde=kde, ax=ax_hist2, bins=bins\n",
    "    ) if bins else sns.histplot(\n",
    "        data=data, x=feature, kde=kde, ax=ax_hist2\n",
    "    )  # For histogram\n",
    "    ax_hist2.axvline(\n",
    "        data[feature].mean(), color=\"green\", linestyle=\"--\"\n",
    "    )  # Add mean to the histogram\n",
    "    ax_hist2.axvline(\n",
    "        data[feature].median(), color=\"black\", linestyle=\"-\"\n",
    "    )  # Add median to the histogram"
   ]
  },
  {
   "cell_type": "code",
   "execution_count": null,
   "metadata": {
    "id": "NjnGedbSGWvX"
   },
   "outputs": [],
   "source": [
    "# function to create labeled barplots\n",
    "\n",
    "\n",
    "def labeled_barplot(data, feature, perc=False, n=None):\n",
    "    \"\"\"\n",
    "    Barplot with percentage at the top\n",
    "\n",
    "    data: dataframe\n",
    "    feature: dataframe column\n",
    "    perc: whether to display percentages instead of count (default is False)\n",
    "    n: displays the top n category levels (default is None, i.e., display all levels)\n",
    "    \"\"\"\n",
    "\n",
    "    total = len(data[feature])  # length of the column\n",
    "    count = data[feature].nunique()\n",
    "    if n is None:\n",
    "        plt.figure(figsize=(count + 2, 6))\n",
    "    else:\n",
    "        plt.figure(figsize=(n + 2, 6))\n",
    "\n",
    "    plt.xticks(rotation=90, fontsize=15)\n",
    "    ax = sns.countplot(\n",
    "        data=data,\n",
    "        x=feature,\n",
    "        palette=\"Paired\",\n",
    "        order=data[feature].value_counts().index[:n],\n",
    "    )\n",
    "\n",
    "    for p in ax.patches:\n",
    "        if perc == True:\n",
    "            label = \"{:.1f}%\".format(\n",
    "                100 * p.get_height() / total\n",
    "            )  # percentage of each class of the category\n",
    "        else:\n",
    "            label = p.get_height()  # count of each level of the category\n",
    "\n",
    "        x = p.get_x() + p.get_width() / 2  # width of the plot\n",
    "        y = p.get_height()  # height of the plot\n",
    "\n",
    "        ax.annotate(\n",
    "            label,\n",
    "            (x, y),\n",
    "            ha=\"center\",\n",
    "            va=\"center\",\n",
    "            size=12,\n",
    "            xytext=(0, 5),\n",
    "            textcoords=\"offset points\",\n",
    "        )  # annotate the percentage\n",
    "\n",
    "    plt.show()  # show the plot"
   ]
  },
  {
   "cell_type": "code",
   "execution_count": null,
   "metadata": {
    "id": "Ju5qp1r1U022"
   },
   "outputs": [],
   "source": [
    "# function to plot stacked bar chart\n",
    "\n",
    "\n",
    "def stacked_barplot(data, predictor, target):\n",
    "    \"\"\"\n",
    "    Print the category counts and plot a stacked bar chart\n",
    "\n",
    "    data: dataframe\n",
    "    predictor: independent variable\n",
    "    target: target variable\n",
    "    \"\"\"\n",
    "    count = data[predictor].nunique()\n",
    "    sorter = data[target].value_counts().index[-1]\n",
    "    tab1 = pd.crosstab(data[predictor], data[target], margins=True).sort_values(\n",
    "        by=sorter, ascending=False\n",
    "    )\n",
    "    print(tab1)\n",
    "    print(\"-\" * 120)\n",
    "    tab = pd.crosstab(data[predictor], data[target], normalize=\"index\").sort_values(\n",
    "        by=sorter, ascending=False\n",
    "    )\n",
    "    tab.plot(kind=\"bar\", stacked=True, figsize=(count + 1, 5))\n",
    "    plt.legend(\n",
    "        loc=\"lower left\",\n",
    "        frameon=False,\n",
    "    )\n",
    "    plt.legend(loc=\"upper left\", bbox_to_anchor=(1, 1))\n",
    "    plt.show()"
   ]
  },
  {
   "cell_type": "markdown",
   "metadata": {
    "id": "7Rwx-1ZuhU3D"
   },
   "source": [
    "### Univariate analysis"
   ]
  },
  {
   "cell_type": "markdown",
   "metadata": {
    "id": "2tMrwBrN_2N1"
   },
   "source": [
    "#### Observations on NumCompaniesWorked"
   ]
  },
  {
   "cell_type": "code",
   "execution_count": null,
   "metadata": {
    "colab": {
     "base_uri": "https://localhost:8080/"
    },
    "id": "N1GlkT9d_2N1",
    "outputId": "007e30d9-9dcb-4300-a595-1c9c2d29f4ec"
   },
   "outputs": [],
   "source": [
    "histogram_boxplot(data,'NumCompaniesWorked')"
   ]
  },
  {
   "cell_type": "markdown",
   "metadata": {
    "id": "gpdG6-NY_2N1"
   },
   "source": [
    "* On average, people have worked at 2.5 companies. Median is 2.\n",
    "* Most people have worked at only 1 company.\n",
    "* Nearly 350 employees have worked at 0 companies, clearly this means this variable indicates the number of companies worked at before joining ours.\n",
    "* There is an outlier employee who has changed 9 companies."
   ]
  },
  {
   "cell_type": "markdown",
   "metadata": {
    "id": "yUFjD85Y_2N2"
   },
   "source": [
    "#### Observations on YearsInCurrentRole"
   ]
  },
  {
   "cell_type": "code",
   "execution_count": null,
   "metadata": {
    "colab": {
     "base_uri": "https://localhost:8080/"
    },
    "id": "iqruY4br_2N2",
    "outputId": "90fb80e9-c185-4d4c-b8f0-ed9206797ebf"
   },
   "outputs": [],
   "source": [
    "histogram_boxplot(data,'YearsSinceLastPromotion')"
   ]
  },
  {
   "cell_type": "markdown",
   "metadata": {
    "id": "5F3poyZg_2N2"
   },
   "source": [
    "* There are a few outliers in this right-skewed distribution, these are probably the people at the highest positions.\n",
    "* Most employees have had a promotion in the last 2 years.\n",
    "* 0 years since last promotion indicates many employees were recently promoted."
   ]
  },
  {
   "cell_type": "markdown",
   "metadata": {
    "id": "nj0Gyj4o_2N4"
   },
   "source": [
    "### Observations on JobRole"
   ]
  },
  {
   "cell_type": "code",
   "execution_count": null,
   "metadata": {
    "colab": {
     "base_uri": "https://localhost:8080/"
    },
    "id": "lwLC8GoU_2N4",
    "outputId": "d415702e-0347-44c5-9015-f3baa4781f7e"
   },
   "outputs": [],
   "source": [
    "labeled_barplot(data, \"JobRole\", perc=True)"
   ]
  },
  {
   "cell_type": "markdown",
   "metadata": {
    "id": "oJjw4R6F_2N4"
   },
   "source": [
    "* 22.2% of employees are Sales Executives followed by 20% of Research Scientists."
   ]
  },
  {
   "cell_type": "markdown",
   "metadata": {
    "id": "O8MKuBkj_2N5"
   },
   "source": [
    "#### Observations on Attrition"
   ]
  },
  {
   "cell_type": "code",
   "execution_count": null,
   "metadata": {
    "colab": {
     "base_uri": "https://localhost:8080/"
    },
    "id": "eB4ELNrW_2N5",
    "outputId": "c57b2f40-370a-4f9d-c4dd-8a2aed0d4af9"
   },
   "outputs": [],
   "source": [
    "labeled_barplot(data, \"Attrition\", perc=True)"
   ]
  },
  {
   "cell_type": "markdown",
   "metadata": {
    "id": "JgALawBK_2N5"
   },
   "source": [
    "* 16% of the data points represent the employees who are going to attrite."
   ]
  },
  {
   "cell_type": "markdown",
   "metadata": {
    "id": "beo_tDmVhU3-"
   },
   "source": [
    "### Bivariate Analysis"
   ]
  },
  {
   "cell_type": "markdown",
   "metadata": {
    "id": "xj_mN-xOTByQ"
   },
   "source": [
    "#### Correlation check"
   ]
  },
  {
   "cell_type": "code",
   "execution_count": null,
   "metadata": {
    "colab": {
     "base_uri": "https://localhost:8080/"
    },
    "id": "85j_vHZ4_2N6",
    "outputId": "5fadfbbf-3b3e-49bc-ae06-3790593ded5c"
   },
   "outputs": [],
   "source": [
    "plt.figure(figsize=(20,10))\n",
    "sns.heatmap(data.corr(),annot=True,vmin=-1,vmax=1,fmt='.2f',cmap=\"Spectral\")\n",
    "plt.show()"
   ]
  },
  {
   "cell_type": "markdown",
   "metadata": {
    "id": "Kk-lNtgy_2N6"
   },
   "source": [
    "* There are a few variables that are correlated with each other but there are no surprises here.\n",
    "* Unsurprisingly, TotalWorkingYears is highly correlated to Job Level (i.e., the longer you work the higher job level you achieve).\n",
    "* HourlyRate, DailyRate, and MonthlyRate are completely uncorrelated with each other which makes it harder to understand what these variables might represent.\n",
    "* MonthlyIncome is highly correlated to Job Level.\n",
    "* Age is positively correlated JobLevel and Education (i.e., the older an employee is, the more educated and at a higher job level they are).\n",
    "* Work-life Balance is correlated with none of the numeric values."
   ]
  },
  {
   "cell_type": "markdown",
   "metadata": {
    "id": "eiqqkGG1_2N6"
   },
   "source": [
    "#### Attrition vs Earnings of employee"
   ]
  },
  {
   "cell_type": "code",
   "execution_count": null,
   "metadata": {
    "colab": {
     "base_uri": "https://localhost:8080/"
    },
    "id": "pbuj2KdS_2N6",
    "outputId": "dc12cb53-35a5-4d8a-91ca-4d5d5bbee09a"
   },
   "outputs": [],
   "source": [
    "cols = data[['DailyRate','HourlyRate','MonthlyRate','MonthlyIncome','PercentSalaryHike']].columns.tolist()\n",
    "plt.figure(figsize=(10,10))\n",
    "\n",
    "for i, variable in enumerate(cols):\n",
    "                     plt.subplot(3,2,i+1)\n",
    "                     sns.boxplot(x = data[\"Attrition\"],y = data[variable],palette=\"PuBu\")\n",
    "                     plt.tight_layout()\n",
    "                     plt.title(variable)\n",
    "plt.show()"
   ]
  },
  {
   "cell_type": "markdown",
   "metadata": {
    "id": "nl5gRNOo_2N6"
   },
   "source": [
    "* Employees having lower Daily rate and less monthly wage are more likely to attrite.\n",
    "* Monthly rate and the hourly rate doesn't seem to have any effect on attrition.\n",
    "* Lesser salary hike also contributes to attrition."
   ]
  },
  {
   "cell_type": "markdown",
   "metadata": {
    "id": "uKTNwQ2q_2N7"
   },
   "source": [
    "#### Attrition vs Previous job roles"
   ]
  },
  {
   "cell_type": "code",
   "execution_count": null,
   "metadata": {
    "colab": {
     "base_uri": "https://localhost:8080/"
    },
    "id": "G6PKuQPE_2N7",
    "outputId": "63e3e4cd-e456-4243-dc33-ab37e6490a9c"
   },
   "outputs": [],
   "source": [
    "cols = data[['NumCompaniesWorked','TotalWorkingYears']].columns.tolist()\n",
    "plt.figure(figsize=(10,10))\n",
    "\n",
    "for i, variable in enumerate(cols):\n",
    "                     plt.subplot(3,2,i+1)\n",
    "                     sns.boxplot(x = data[\"Attrition\"],y = data[variable],palette=\"PuBu\")\n",
    "                     plt.tight_layout()\n",
    "                     plt.title(variable)\n",
    "plt.show()"
   ]
  },
  {
   "cell_type": "markdown",
   "metadata": {
    "id": "ItAMnWl0_2N7"
   },
   "source": [
    "* Employees who have worked in more companies generally tend to switch more jobs hence attriting.\n",
    "* Employees who attrite generally have lesser years of experience."
   ]
  },
  {
   "cell_type": "code",
   "execution_count": null,
   "metadata": {
    "colab": {
     "base_uri": "https://localhost:8080/"
    },
    "id": "y3odH-2p_2N8",
    "outputId": "ed4a7a5c-021e-4518-a0f0-d44381f5867c"
   },
   "outputs": [],
   "source": [
    "stacked_barplot(data, \"BusinessTravel\", \"Attrition\")"
   ]
  },
  {
   "cell_type": "markdown",
   "metadata": {
    "id": "RvBjjxU__2N8"
   },
   "source": [
    "* As the travel frequency increases, the Attrition rate increases.\n",
    "* There's ~22% probability of employees attriting who travel frequently."
   ]
  },
  {
   "cell_type": "code",
   "execution_count": null,
   "metadata": {
    "colab": {
     "base_uri": "https://localhost:8080/"
    },
    "id": "3Ca1Jbzw_2N8",
    "outputId": "a1f2849c-a02f-48a5-afdf-2ee359166700"
   },
   "outputs": [],
   "source": [
    "stacked_barplot(data,\"EnvironmentSatisfaction\",\"Attrition\")"
   ]
  },
  {
   "cell_type": "markdown",
   "metadata": {
    "id": "pbuegDzA_2N9"
   },
   "source": [
    "* Employees who say they have low satisfaction with their work environments are likely to attrite.\n",
    "* There's a ~40% probability of attrition among employees with low ratings for environment satisfaction."
   ]
  },
  {
   "cell_type": "code",
   "execution_count": null,
   "metadata": {
    "colab": {
     "base_uri": "https://localhost:8080/"
    },
    "id": "MfQvjaVX_2N9",
    "outputId": "f9b9bd8d-f60b-4afd-9269-c4a11a670c71"
   },
   "outputs": [],
   "source": [
    "stacked_barplot(data,\"JobInvolvement\",\"Attrition\")"
   ]
  },
  {
   "cell_type": "markdown",
   "metadata": {
    "id": "PzwL8Xqe_2N9"
   },
   "source": [
    "* Job Involvement looks like a very strong indicator of attrition.\n",
    "* Higher the job involvement, greater is the chance that the employee will stay with us and not attrite.\n",
    "* Employees unhappy with their job involment have ~55% probability of attriting (those who rated 0 and 1).\n",
    "* Further investigation to understand how this variable was collected will give more insights."
   ]
  },
  {
   "cell_type": "code",
   "execution_count": null,
   "metadata": {
    "colab": {
     "base_uri": "https://localhost:8080/"
    },
    "id": "FmDF4K4S_2N9",
    "outputId": "6babe56d-e3ae-4854-ca3e-786881f5e02e"
   },
   "outputs": [],
   "source": [
    "stacked_barplot(data,\"JobRole\",\"Attrition\")"
   ]
  },
  {
   "cell_type": "markdown",
   "metadata": {
    "id": "S8zPbWmv_2N9"
   },
   "source": [
    "* Sales Executives have an attrition probability of >40%.\n",
    "* Laboratory Technicians and Human Resource personnel also have high probabilities of attrition.\n",
    "* Attrition probability among Research Directors, Manufacturing directors Healthcare representatives, and Managers is much lower than the average attrition probability of 16%."
   ]
  },
  {
   "cell_type": "code",
   "execution_count": null,
   "metadata": {
    "colab": {
     "base_uri": "https://localhost:8080/"
    },
    "id": "KmGQafBX_2N9",
    "outputId": "919674de-a497-4f7a-94b9-2442391babbf"
   },
   "outputs": [],
   "source": [
    "stacked_barplot(data,\"JobSatisfaction\",\"Attrition\")"
   ]
  },
  {
   "cell_type": "markdown",
   "metadata": {
    "id": "ey0t7Md-_2N-"
   },
   "source": [
    "* As Job satisfaction increases, attrition probability decreases. This is intuitive but the attrition probability of people who rate 2 and 3 being almost the same is peculiar."
   ]
  },
  {
   "cell_type": "code",
   "execution_count": null,
   "metadata": {
    "colab": {
     "base_uri": "https://localhost:8080/"
    },
    "id": "KUUYQmT-_2N-",
    "outputId": "7fc00c0c-4089-4628-e86f-7115854d5e4c"
   },
   "outputs": [],
   "source": [
    "stacked_barplot(data,\"OverTime\",\"Attrition\")"
   ]
  },
  {
   "cell_type": "markdown",
   "metadata": {
    "id": "lgqIUP_V_2N-"
   },
   "source": [
    "* Employees who work overtime tend to attrite more.\n",
    "* There a ~35% probability of attrition among employees working overtime."
   ]
  },
  {
   "cell_type": "code",
   "execution_count": null,
   "metadata": {
    "colab": {
     "base_uri": "https://localhost:8080/"
    },
    "id": "80bLxoxn_2N-",
    "outputId": "cf4d9ca3-8a46-428c-d4ce-52e46b004e2e"
   },
   "outputs": [],
   "source": [
    "stacked_barplot(data,\"StockOptionLevel\",\"Attrition\")"
   ]
  },
  {
   "cell_type": "markdown",
   "metadata": {
    "id": "UBkXxau7_2N_"
   },
   "source": [
    "* ~22% Employees with highest and lowest stock options attrite the more than others.\n",
    "* Company should investigate more on why employees with highest stock options are attriting and take this as an opportunity to re-consider their stocks policy."
   ]
  },
  {
   "cell_type": "code",
   "execution_count": null,
   "metadata": {
    "colab": {
     "base_uri": "https://localhost:8080/"
    },
    "id": "1DivQ_Ix_2N_",
    "outputId": "0797b326-23c7-4394-bea2-160f36b0bb81"
   },
   "outputs": [],
   "source": [
    "stacked_barplot(data,\"WorkLifeBalance\",\"Attrition\")"
   ]
  },
  {
   "cell_type": "markdown",
   "metadata": {
    "id": "TgqTP-YN_2N_"
   },
   "source": [
    "* Low work-life balance rating leads people to attrite, this is a good factor to preempt at attrition risk employees."
   ]
  },
  {
   "cell_type": "markdown",
   "metadata": {
    "id": "fkK5QoQ2_2N_"
   },
   "source": [
    "**Checking if performace rating and salary hike are related-**"
   ]
  },
  {
   "cell_type": "code",
   "execution_count": null,
   "metadata": {
    "colab": {
     "base_uri": "https://localhost:8080/"
    },
    "id": "1Pukymiw_2N_",
    "outputId": "ea5656c9-d39d-4e54-ae46-c041ea857f6b"
   },
   "outputs": [],
   "source": [
    "sns.boxplot(x = data['PerformanceRating'], y = data['PercentSalaryHike'])\n",
    "plt.show()"
   ]
  },
  {
   "cell_type": "code",
   "execution_count": null,
   "metadata": {
    "colab": {
     "base_uri": "https://localhost:8080/"
    },
    "id": "RdrNzGFM_2N_",
    "outputId": "54ceac25-5f80-4db3-839f-e7761fa450aa",
    "scrolled": true
   },
   "outputs": [],
   "source": [
    "plt.figure(figsize=(15,5))\n",
    "sns.boxplot(x = data['PerformanceRating'],y = data['PercentSalaryHike'],hue=data['JobRole'])\n",
    "plt.show()"
   ]
  },
  {
   "cell_type": "markdown",
   "metadata": {
    "id": "GY2rbcim_2N_"
   },
   "source": [
    "**Observations-**\n",
    "* Salary hikes are a function of Performance ratings.\n",
    "* We have to investigate why the employees who get Excellent(3) and Outstanding(4) Performance rating attrite and how then can they be retained."
   ]
  },
  {
   "cell_type": "markdown",
   "metadata": {
    "id": "XH2OxsSFxGaE"
   },
   "source": [
    "## Data Preprocessing"
   ]
  },
  {
   "cell_type": "markdown",
   "metadata": {
    "id": "pX8fUIz7v5lb"
   },
   "source": [
    "### Outlier Detection and Treatment"
   ]
  },
  {
   "cell_type": "code",
   "execution_count": null,
   "metadata": {
    "colab": {
     "base_uri": "https://localhost:8080/"
    },
    "id": "OcpvuPhTv9xQ",
    "outputId": "7ad366e5-57bc-489e-90b8-480041ed2b74"
   },
   "outputs": [],
   "source": [
    "# outlier detection using boxplot\n",
    "numeric_columns = data.select_dtypes(include=np.number).columns.tolist()\n",
    "\n",
    "\n",
    "plt.figure(figsize=(15, 12))\n",
    "\n",
    "for i, variable in enumerate(numeric_columns):\n",
    "    plt.subplot(6, 4, i + 1)\n",
    "    plt.boxplot(data[variable], whis=1.5)\n",
    "    plt.tight_layout()\n",
    "    plt.title(variable)\n",
    "\n",
    "plt.show()"
   ]
  },
  {
   "cell_type": "markdown",
   "metadata": {
    "id": "BsqZwm94GJIX"
   },
   "source": [
    "- There are quite a few outliers in the data.\n",
    "- However, we will not treat them as they are proper values."
   ]
  },
  {
   "cell_type": "markdown",
   "metadata": {
    "id": "0L-oAMItxLP-"
   },
   "source": [
    "### Data Preparataion for model building"
   ]
  },
  {
   "cell_type": "markdown",
   "metadata": {
    "id": "HOXhulVK_2OA"
   },
   "source": [
    "* When classification problems exhibit a significant imbalance in the distribution of the target classes, it is good to use stratified sampling to ensure that relative class frequencies are approximately preserved in train and test sets.\n",
    "* This is done using the `stratify` parameter in the train_test_split function."
   ]
  },
  {
   "cell_type": "code",
   "execution_count": null,
   "metadata": {
    "id": "PbBrtBFD_2OA"
   },
   "outputs": [],
   "source": [
    "data['Attrition'] = data['Attrition'].apply(lambda x : 1 if x=='Yes' else 0)\n",
    "\n",
    "X = data.drop(['Attrition'],axis=1)\n",
    "y = data['Attrition']\n",
    "\n",
    "X = pd.get_dummies(X,drop_first=True)"
   ]
  },
  {
   "cell_type": "code",
   "execution_count": null,
   "metadata": {
    "colab": {
     "base_uri": "https://localhost:8080/"
    },
    "id": "JqVHLEHVRRKK",
    "outputId": "3e1b6f17-988c-4749-b350-8f94ecb4d3bd"
   },
   "outputs": [],
   "source": [
    "# Splitting data into training and test set:\n",
    "X_train, X_test, y_train, y_test =train_test_split(X, y, test_size=0.3, random_state=1,stratify=y)\n",
    "print(X_train.shape, X_test.shape)"
   ]
  },
  {
   "cell_type": "code",
   "execution_count": null,
   "metadata": {
    "colab": {
     "base_uri": "https://localhost:8080/"
    },
    "id": "zfXHrfAE_2OB",
    "outputId": "47bba551-6bdb-4eaa-d43c-8c58ee6c25f1"
   },
   "outputs": [],
   "source": [
    "y.value_counts(1)"
   ]
  },
  {
   "cell_type": "code",
   "execution_count": null,
   "metadata": {
    "colab": {
     "base_uri": "https://localhost:8080/"
    },
    "id": "q-nhSZ_R_2OB",
    "outputId": "b4ec993e-57c2-4125-d61f-ec91a29cd3b9"
   },
   "outputs": [],
   "source": [
    "y_test.value_counts(1)"
   ]
  },
  {
   "cell_type": "markdown",
   "metadata": {
    "id": "czit0svf_2OB"
   },
   "source": [
    "**Let's define function to provide metric scores(accuracy,recall and precision) on train and test set and a function to show confusion matrix so that we do not have use the same code repetitively while evaluating models.**"
   ]
  },
  {
   "cell_type": "code",
   "execution_count": null,
   "metadata": {
    "id": "OjvTfJTU_2OB"
   },
   "outputs": [],
   "source": [
    "# defining a function to compute different metrics to check performance of a classification model built using sklearn\n",
    "def model_performance_classification_sklearn(model, predictors, target):\n",
    "    \"\"\"\n",
    "    Function to compute different metrics to check classification model performance\n",
    "\n",
    "    model: classifier\n",
    "    predictors: independent variables\n",
    "    target: dependent variable\n",
    "    \"\"\"\n",
    "\n",
    "    # predicting using the independent variables\n",
    "    pred = model.predict(predictors)\n",
    "\n",
    "    acc = accuracy_score(target, pred)  # to compute Accuracy\n",
    "    recall = recall_score(target, pred)  # to compute Recall\n",
    "    precision = precision_score(target, pred)  # to compute Precision\n",
    "    f1 = f1_score(target, pred)  # to compute F1-score\n",
    "\n",
    "    # creating a dataframe of metrics\n",
    "    df_perf = pd.DataFrame(\n",
    "        {\n",
    "            \"Accuracy\": acc,\n",
    "            \"Recall\": recall,\n",
    "            \"Precision\": precision,\n",
    "            \"F1\": f1,\n",
    "        },\n",
    "        index=[0],\n",
    "    )\n",
    "\n",
    "    return df_perf"
   ]
  },
  {
   "cell_type": "code",
   "execution_count": null,
   "metadata": {
    "id": "He1V6gh3_2OC"
   },
   "outputs": [],
   "source": [
    "def confusion_matrix_sklearn(model, predictors, target):\n",
    "    \"\"\"\n",
    "    To plot the confusion_matrix with percentages\n",
    "\n",
    "    model: classifier\n",
    "    predictors: independent variables\n",
    "    target: dependent variable\n",
    "    \"\"\"\n",
    "    y_pred = model.predict(predictors)\n",
    "    cm = confusion_matrix(target, y_pred)\n",
    "    labels = np.asarray(\n",
    "        [\n",
    "            [\"{0:0.0f}\".format(item) + \"\\n{0:.2%}\".format(item / cm.flatten().sum())]\n",
    "            for item in cm.flatten()\n",
    "        ]\n",
    "    ).reshape(2, 2)\n",
    "\n",
    "    plt.figure(figsize=(6, 4))\n",
    "    sns.heatmap(cm, annot=labels, fmt=\"\")\n",
    "    plt.ylabel(\"True label\")\n",
    "    plt.xlabel(\"Predicted label\")"
   ]
  },
  {
   "cell_type": "markdown",
   "metadata": {
    "id": "UWZm9hnfwhLb"
   },
   "source": [
    "## Model Building"
   ]
  },
  {
   "cell_type": "markdown",
   "metadata": {
    "id": "T4Ys5BOD_2OB"
   },
   "source": [
    "### Model evaluation criterion\n",
    "\n",
    "### Model can make wrong predictions as:\n",
    "1. Predicting an employee will attrite and the employee doesn't attrite\n",
    "2. Predicting an employee will not attrite and the employee attrites\n",
    "\n",
    "### Which case is more important?\n",
    "* Predicting that employee will not attrite but he attrites i.e. losing on a valuable employee or asset.\n",
    "\n",
    "### How to reduce this loss i.e need to reduce False Negatives?\n",
    "* Company wants Recall to be maximized, greater the Recall higher the chances of minimizing false negatives. Hence, the focus should be on increasing Recall or minimizing the false negatives or in other words identifying the true positives(i.e. Class 1) so that the company can provide incentives to control attrition rate especially for top-performers thereby optimizing the overall project cost in retaining the best talent."
   ]
  },
  {
   "cell_type": "markdown",
   "metadata": {
    "id": "U_imjVzRxLQC"
   },
   "source": [
    "### Decision Tree Model"
   ]
  },
  {
   "cell_type": "markdown",
   "metadata": {
    "id": "fUTe3bPVxLQD"
   },
   "source": [
    "* We will build our model using the DecisionTreeClassifier function. Using default 'gini' criteria to split.\n",
    "* If the frequency of class A is 10% and the frequency of class B is 90%, then class B will become the dominant class and the decision tree will become biased toward the dominant classes.\n",
    "\n",
    "* In this case, we can pass a dictionary {0:0.17,1:0.83} to the model to specify the weight of each class and the decision tree will give more weightage to class 1.\n",
    "\n",
    "* class_weight is a hyperparameter for the decision tree classifier."
   ]
  },
  {
   "cell_type": "code",
   "execution_count": null,
   "metadata": {
    "id": "LYsH6SEbR2Zv"
   },
   "outputs": [],
   "source": [
    "dtree = DecisionTreeClassifier(criterion='gini',class_weight={0:0.17,1:0.83},random_state=1)"
   ]
  },
  {
   "cell_type": "code",
   "execution_count": null,
   "metadata": {
    "colab": {
     "base_uri": "https://localhost:8080/"
    },
    "id": "o6CBUnia_2OD",
    "outputId": "d0a452fa-0c69-488f-ef0d-8bb4d640f973"
   },
   "outputs": [],
   "source": [
    "dtree.fit(X_train, y_train)"
   ]
  },
  {
   "cell_type": "code",
   "execution_count": null,
   "metadata": {
    "colab": {
     "base_uri": "https://localhost:8080/"
    },
    "id": "ZtlLBnQQ_2OD",
    "outputId": "a2a6919b-4e2e-4417-81be-cd1cec962907"
   },
   "outputs": [],
   "source": [
    "confusion_matrix_sklearn(dtree, X_train, y_train)"
   ]
  },
  {
   "cell_type": "markdown",
   "metadata": {
    "id": "wIMYOaHd_2OD"
   },
   "source": [
    "**Confusion Matrix -**\n",
    "\n",
    "* Employee left and the model predicted it correctly that is employee will attrite :  True Positive (observed=1,predicted=1)\n",
    "\n",
    "* Employee didn't leave and the model predicted employee will attrite : False Positive (observed=0,predicted=1)\n",
    "\n",
    "* Employee didn't leave and the model predicted employee will not attrite : True Negative (observed=0,predicted=0)\n",
    "\n",
    "* Employee left and the model predicted that employee won't : False Negative (observed=1,predicted=0)"
   ]
  },
  {
   "cell_type": "code",
   "execution_count": null,
   "metadata": {
    "colab": {
     "base_uri": "https://localhost:8080/"
    },
    "id": "LqTXKdA2_2OD",
    "outputId": "8f1863e9-916b-4a36-8dca-6d6a2ce740c5"
   },
   "outputs": [],
   "source": [
    "dtree_model_train_perf=model_performance_classification_sklearn(dtree, X_train, y_train)\n",
    "print(\"Training performance \\n\",dtree_model_train_perf)"
   ]
  },
  {
   "cell_type": "code",
   "execution_count": null,
   "metadata": {
    "colab": {
     "base_uri": "https://localhost:8080/"
    },
    "id": "-kfMGZ4xankI",
    "outputId": "59c654e3-1464-4939-9264-769a33b7b9b7"
   },
   "outputs": [],
   "source": [
    "confusion_matrix_sklearn(dtree, X_test, y_test)"
   ]
  },
  {
   "cell_type": "code",
   "execution_count": null,
   "metadata": {
    "colab": {
     "base_uri": "https://localhost:8080/"
    },
    "id": "nlF5PFSH_2OD",
    "outputId": "bc10b60f-2cbd-4889-fd0a-15f26b3d46f3"
   },
   "outputs": [],
   "source": [
    "dtree_model_test_perf=model_performance_classification_sklearn(dtree, X_test, y_test)\n",
    "print(\"Testing performance \\n\",dtree_model_test_perf)"
   ]
  },
  {
   "cell_type": "markdown",
   "metadata": {
    "id": "dl3SvIbu_2OD"
   },
   "source": [
    "* Decision tree is not able to generalize well on the data."
   ]
  },
  {
   "cell_type": "markdown",
   "metadata": {
    "id": "jjgBr32Y_2OD"
   },
   "source": [
    "### Bagging Classifier"
   ]
  },
  {
   "cell_type": "code",
   "execution_count": null,
   "metadata": {
    "colab": {
     "base_uri": "https://localhost:8080/"
    },
    "id": "k4o1J5K__2OE",
    "outputId": "c94e5544-e7f6-4be1-a455-9d99e38d0e4e"
   },
   "outputs": [],
   "source": [
    "bagging = BaggingClassifier(random_state=1)\n",
    "bagging.fit(X_train,y_train)"
   ]
  },
  {
   "cell_type": "code",
   "execution_count": null,
   "metadata": {
    "colab": {
     "base_uri": "https://localhost:8080/"
    },
    "id": "k1VM2KUE_2OE",
    "outputId": "7d2d2b94-3ebd-4c98-c1db-4550bc16e9e4"
   },
   "outputs": [],
   "source": [
    "confusion_matrix_sklearn(bagging, X_train, y_train)"
   ]
  },
  {
   "cell_type": "code",
   "execution_count": null,
   "metadata": {
    "colab": {
     "base_uri": "https://localhost:8080/"
    },
    "id": "UF0PGDiO_2OE",
    "outputId": "e0e86b7a-f7b4-481c-f8f7-e231968c6352"
   },
   "outputs": [],
   "source": [
    "bagging_model_train_perf=model_performance_classification_sklearn(bagging, X_train, y_train)\n",
    "print(\"Training performance \\n\",bagging_model_train_perf)"
   ]
  },
  {
   "cell_type": "code",
   "execution_count": null,
   "metadata": {
    "colab": {
     "base_uri": "https://localhost:8080/"
    },
    "id": "CxhaVpe5a7Er",
    "outputId": "3292c8c9-089d-4cdd-f236-b8476b107c10"
   },
   "outputs": [],
   "source": [
    "confusion_matrix_sklearn(bagging, X_test, y_test)"
   ]
  },
  {
   "cell_type": "code",
   "execution_count": null,
   "metadata": {
    "colab": {
     "base_uri": "https://localhost:8080/"
    },
    "id": "Gq7C3vHD_2OE",
    "outputId": "ea7b8760-49bf-48c0-a7ec-efed5da0353e"
   },
   "outputs": [],
   "source": [
    "bagging_model_test_perf=model_performance_classification_sklearn(bagging, X_test, y_test)\n",
    "print(\"Testing performance \\n\",bagging_model_test_perf)"
   ]
  },
  {
   "cell_type": "markdown",
   "metadata": {
    "id": "VZjI7WGn_2OE"
   },
   "source": [
    "* Bagging classifier is overfitting on the training set and is performing poorly on the test set in terms of recall."
   ]
  },
  {
   "cell_type": "markdown",
   "metadata": {
    "id": "HMVUwb_2_2OE"
   },
   "source": [
    "### Bagging Classifier with weighted decision tree"
   ]
  },
  {
   "cell_type": "code",
   "execution_count": null,
   "metadata": {
    "colab": {
     "base_uri": "https://localhost:8080/"
    },
    "id": "liKH3Hpy_2OE",
    "outputId": "1f5de5e2-f516-4df7-873e-177b703dd3ae"
   },
   "outputs": [],
   "source": [
    "bagging_wt = BaggingClassifier(base_estimator=DecisionTreeClassifier(criterion='gini',class_weight={0:0.17,1:0.83},random_state=1),random_state=1)\n",
    "bagging_wt.fit(X_train,y_train)"
   ]
  },
  {
   "cell_type": "code",
   "execution_count": null,
   "metadata": {
    "colab": {
     "base_uri": "https://localhost:8080/"
    },
    "id": "-HmeopMT_2OE",
    "outputId": "2d68e0eb-b7a9-4c15-e147-7a472a086ed6"
   },
   "outputs": [],
   "source": [
    "confusion_matrix_sklearn(bagging_wt,X_train,y_train)"
   ]
  },
  {
   "cell_type": "code",
   "execution_count": null,
   "metadata": {
    "colab": {
     "base_uri": "https://localhost:8080/"
    },
    "id": "EIp7jGAT_2OF",
    "outputId": "a2298978-4ead-45bd-8b71-74c8b8134543"
   },
   "outputs": [],
   "source": [
    "bagging_wt_model_train_perf=model_performance_classification_sklearn(bagging_wt,X_train,y_train)\n",
    "print(\"Training performance \\n\",bagging_wt_model_train_perf)"
   ]
  },
  {
   "cell_type": "code",
   "execution_count": null,
   "metadata": {
    "colab": {
     "base_uri": "https://localhost:8080/"
    },
    "id": "Cjhl2gwibOEG",
    "outputId": "2c4ad941-56cb-4048-e0f1-aed7412f074f"
   },
   "outputs": [],
   "source": [
    "confusion_matrix_sklearn(bagging_wt,X_test,y_test)"
   ]
  },
  {
   "cell_type": "code",
   "execution_count": null,
   "metadata": {
    "colab": {
     "base_uri": "https://localhost:8080/"
    },
    "id": "sWEwx1FA_2OF",
    "outputId": "55c171a7-23dc-4811-b4ec-ed8d4c9ab110"
   },
   "outputs": [],
   "source": [
    "bagging_wt_model_test_perf=model_performance_classification_sklearn(bagging_wt, X_test, y_test)\n",
    "print(\"Testing performance \\n\",bagging_wt_model_test_perf)"
   ]
  },
  {
   "cell_type": "markdown",
   "metadata": {
    "id": "qGtEirwn_2OF"
   },
   "source": [
    "* Bagging classifier with a weighted decision tree is not able to generalize well on the data."
   ]
  },
  {
   "cell_type": "markdown",
   "metadata": {
    "id": "9CkKzJQz_2OF"
   },
   "source": [
    "### Random Forest"
   ]
  },
  {
   "cell_type": "code",
   "execution_count": null,
   "metadata": {
    "colab": {
     "base_uri": "https://localhost:8080/"
    },
    "id": "vcolt9KK_2OF",
    "outputId": "f30a4140-c433-4671-cb12-8d9fee3b2227"
   },
   "outputs": [],
   "source": [
    "rf = RandomForestClassifier(random_state=1)\n",
    "rf.fit(X_train,y_train)"
   ]
  },
  {
   "cell_type": "code",
   "execution_count": null,
   "metadata": {
    "colab": {
     "base_uri": "https://localhost:8080/"
    },
    "id": "gRo7q4IM_2OF",
    "outputId": "97363df8-ade5-46aa-c4a8-d9193ec0f224"
   },
   "outputs": [],
   "source": [
    "confusion_matrix_sklearn(rf,X_train,y_train)"
   ]
  },
  {
   "cell_type": "code",
   "execution_count": null,
   "metadata": {
    "colab": {
     "base_uri": "https://localhost:8080/"
    },
    "id": "UlZRdYW7_2OF",
    "outputId": "5faca4be-7f77-4522-b63a-ae87c7c593fe"
   },
   "outputs": [],
   "source": [
    "rf_model_train_perf=model_performance_classification_sklearn(rf,X_train,y_train)\n",
    "print(\"Training performance \\n\",rf_model_train_perf)"
   ]
  },
  {
   "cell_type": "code",
   "execution_count": null,
   "metadata": {
    "colab": {
     "base_uri": "https://localhost:8080/"
    },
    "id": "URXinvwnbYCu",
    "outputId": "48f97a12-81c5-49e5-b007-c275909712f6"
   },
   "outputs": [],
   "source": [
    "confusion_matrix_sklearn(rf,X_test,y_test)"
   ]
  },
  {
   "cell_type": "code",
   "execution_count": null,
   "metadata": {
    "colab": {
     "base_uri": "https://localhost:8080/"
    },
    "id": "6fM8Pxt9_2OF",
    "outputId": "44a2308e-6e26-486e-9141-aa7d4348a00c"
   },
   "outputs": [],
   "source": [
    "rf_model_test_perf=model_performance_classification_sklearn(rf,X_test,y_test)\n",
    "print(\"Testing performance \\n\",rf_model_test_perf)"
   ]
  },
  {
   "cell_type": "markdown",
   "metadata": {
    "id": "GXp_VyYc_2OG"
   },
   "source": [
    "* Random Forest is overfitting badly on the train set."
   ]
  },
  {
   "cell_type": "markdown",
   "metadata": {
    "id": "ujdCAo8R_2OG"
   },
   "source": [
    "###Random forest with class weights"
   ]
  },
  {
   "cell_type": "code",
   "execution_count": null,
   "metadata": {
    "colab": {
     "base_uri": "https://localhost:8080/"
    },
    "id": "14YnrV3o_2OG",
    "outputId": "2e20d35b-2ab3-4d49-b611-6c28070e0e06"
   },
   "outputs": [],
   "source": [
    "rf_wt = RandomForestClassifier(class_weight={0:0.17,1:0.83}, random_state=1)\n",
    "rf_wt.fit(X_train,y_train)"
   ]
  },
  {
   "cell_type": "code",
   "execution_count": null,
   "metadata": {
    "colab": {
     "base_uri": "https://localhost:8080/"
    },
    "id": "0Ht-1v2y_2OG",
    "outputId": "51bddf63-361d-4afd-e98e-c5bb72c9aa02"
   },
   "outputs": [],
   "source": [
    "confusion_matrix_sklearn(rf_wt, X_train,y_train)"
   ]
  },
  {
   "cell_type": "code",
   "execution_count": null,
   "metadata": {
    "colab": {
     "base_uri": "https://localhost:8080/"
    },
    "id": "9sZyoEHo_2OG",
    "outputId": "89886473-2d1e-4ce6-f349-6c9df98a9b92"
   },
   "outputs": [],
   "source": [
    "rf_wt_model_train_perf=model_performance_classification_sklearn(rf_wt, X_train,y_train)\n",
    "print(\"Training performance \\n\",rf_wt_model_train_perf)"
   ]
  },
  {
   "cell_type": "code",
   "execution_count": null,
   "metadata": {
    "colab": {
     "base_uri": "https://localhost:8080/"
    },
    "id": "kSWbJiQ0ffrh",
    "outputId": "09836bc8-a518-47bb-bf38-1141af897ffe"
   },
   "outputs": [],
   "source": [
    "confusion_matrix_sklearn(rf_wt, X_test,y_test)"
   ]
  },
  {
   "cell_type": "code",
   "execution_count": null,
   "metadata": {
    "colab": {
     "base_uri": "https://localhost:8080/"
    },
    "id": "jmG4DJIV_2OG",
    "outputId": "da0e1d67-dcca-4b05-9589-4bd816700b85"
   },
   "outputs": [],
   "source": [
    "rf_wt_model_test_perf=model_performance_classification_sklearn(rf_wt, X_test,y_test)\n",
    "print(\"Testing performance \\n\",rf_wt_model_test_perf)"
   ]
  },
  {
   "cell_type": "markdown",
   "metadata": {
    "id": "WiiaCLcB_2OG"
   },
   "source": [
    "* There is not much improvement in metrics of weighted random forest as compared to the unweighted random forest."
   ]
  },
  {
   "cell_type": "markdown",
   "metadata": {
    "id": "OrqEYuVX5M0I"
   },
   "source": [
    "### Adaboost"
   ]
  },
  {
   "cell_type": "code",
   "execution_count": null,
   "metadata": {
    "id": "JqgqFelh37-o"
   },
   "outputs": [],
   "source": [
    "adaboost_clf = AdaBoostClassifier(estimator=dtree, n_estimators=50)\n",
    "#abcl = AdaBoostClassifier(n_estimators=50)\n",
    "adaboost_clf = adaboost_clf.fit(X_train, y_train)\n"
   ]
  },
  {
   "cell_type": "code",
   "execution_count": null,
   "metadata": {
    "colab": {
     "base_uri": "https://localhost:8080/"
    },
    "id": "WcEbiljG378O",
    "outputId": "3ce3cbab-23b0-4605-eb2a-86e4ed5a2e0f"
   },
   "outputs": [],
   "source": [
    "ab_regressor_model_train = model_performance_classification_sklearn(adaboost_clf, X_train,y_train)\n",
    "print(\"Training performance \\n\",ab_regressor_model_train)"
   ]
  },
  {
   "cell_type": "code",
   "execution_count": null,
   "metadata": {
    "colab": {
     "base_uri": "https://localhost:8080/"
    },
    "id": "zR-bn9Sn375Z",
    "outputId": "dd625f2a-2010-41ed-8edc-8d723513f31e"
   },
   "outputs": [],
   "source": [
    "ab_regressor_model_test_perf = model_performance_classification_sklearn(adaboost_clf, X_test,y_test)\n",
    "print(\"Testing performance \\n\",ab_regressor_model_test_perf)"
   ]
  },
  {
   "cell_type": "markdown",
   "metadata": {
    "id": "RYCbh6wp4XOu"
   },
   "source": [
    "### Gradient Boost"
   ]
  },
  {
   "cell_type": "code",
   "execution_count": null,
   "metadata": {
    "id": "cjuvQT-s37z2"
   },
   "outputs": [],
   "source": [
    "from sklearn.ensemble import GradientBoostingClassifier\n",
    "gbcl = GradientBoostingClassifier(n_estimators = 50, max_depth=5)\n",
    "gbcl = gbcl.fit(X_train, y_train)"
   ]
  },
  {
   "cell_type": "code",
   "execution_count": null,
   "metadata": {
    "colab": {
     "base_uri": "https://localhost:8080/"
    },
    "id": "YdNqsrD-37wB",
    "outputId": "4da522a0-1103-4d8a-fdf0-dfe99ace032f"
   },
   "outputs": [],
   "source": [
    "gbcl_train = model_performance_classification_sklearn(gbcl, X_train,y_train)\n",
    "print(\"Training performance \\n\",gbcl_train)"
   ]
  },
  {
   "cell_type": "code",
   "execution_count": null,
   "metadata": {
    "colab": {
     "base_uri": "https://localhost:8080/"
    },
    "id": "UwCJUpub37se",
    "outputId": "505d013d-1fd0-454e-a4db-0fd5491e9126"
   },
   "outputs": [],
   "source": [
    "gbcl_test = model_performance_classification_sklearn(gbcl, X_test,y_test)\n",
    "print(\"Testing performance \\n\",gbcl_test)"
   ]
  },
  {
   "cell_type": "markdown",
   "metadata": {
    "id": "AwtPvvPd_2OJ"
   },
   "source": [
    "### Comparing all the models"
   ]
  },
  {
   "cell_type": "code",
   "execution_count": null,
   "metadata": {
    "colab": {
     "base_uri": "https://localhost:8080/",
     "height": 254
    },
    "id": "Olt9GdZj_2OJ",
    "outputId": "b23e9878-af9c-4090-f52a-95385e7b5145"
   },
   "outputs": [],
   "source": [
    "# training performance comparison\n",
    "\n",
    "models_train_comp_df = pd.concat(\n",
    "    [dtree_model_train_perf.T,bagging_model_train_perf.T, bagging_wt_model_train_perf.T,rf_model_train_perf.T,\n",
    "    rf_wt_model_train_perf.T, ab_regressor_model_train.T, gbcl_train.T],\n",
    "    axis=1,\n",
    ")\n",
    "models_train_comp_df.columns = [\n",
    "    \"Decision Tree\",\n",
    "    \"Bagging Classifier\",\n",
    "    \"Weighted Bagging Classifier\",\n",
    "    \"Random Forest Classifier\",\n",
    "    \"Weighted Random Forest Classifier\",\n",
    "    \"Adaboost Classifier\",\n",
    "    \"Gradient Boost Classifier\"\n",
    "    ]\n",
    "print(\"Training performance comparison:\")\n",
    "models_train_comp_df"
   ]
  },
  {
   "cell_type": "code",
   "execution_count": null,
   "metadata": {
    "colab": {
     "base_uri": "https://localhost:8080/",
     "height": 254
    },
    "id": "f9atJsi-_2OJ",
    "outputId": "35d787ea-86ec-4737-a324-db6c59ff6c75"
   },
   "outputs": [],
   "source": [
    "# training performance comparison\n",
    "\n",
    "models_test_comp_df = pd.concat(\n",
    "    [dtree_model_test_perf.T,bagging_model_test_perf.T, bagging_wt_model_test_perf.T,rf_model_test_perf.T,\n",
    "    rf_wt_model_test_perf.T, ab_regressor_model_test_perf.T, gbcl_test.T],\n",
    "    axis=1,\n",
    ")\n",
    "models_test_comp_df.columns = [\n",
    "    \"Decision Tree\",\n",
    "    \"Bagging Classifier\",\n",
    "    \"Weighted Bagging Classifier\",\n",
    "    \"Random Forest Classifier\",\n",
    "    \"Weighted Random Forest Classifier\",\n",
    "    \"Adaboost Classifier\",\n",
    "    \"Gradient Boost Classifier\"\n",
    "    ]\n",
    "print(\"Testing performance comparison:\")\n",
    "models_test_comp_df"
   ]
  },
  {
   "cell_type": "markdown",
   "metadata": {
    "id": "L0F3h-n2_2OK"
   },
   "source": [
    "* All the models are overfitting. Among these models decision tree performs better but overfits badly on the train set.\n"
   ]
  },
  {
   "cell_type": "markdown",
   "metadata": {
    "id": "B7dnO_r9_2OK"
   },
   "source": [
    "### Feature importance of Random Forest"
   ]
  },
  {
   "cell_type": "code",
   "execution_count": null,
   "metadata": {
    "colab": {
     "base_uri": "https://localhost:8080/"
    },
    "id": "U7sE1kpqxLQW",
    "outputId": "e33376e8-36dd-4200-9460-f2713dfab6d6"
   },
   "outputs": [],
   "source": [
    "# importance of features in the tree building ( The importance of a feature is computed as the\n",
    "#(normalized) total reduction of the criterion brought by that feature. It is also known as the Gini importance )\n",
    "# Choose the type of classifier.\n",
    "dtree = DecisionTreeClassifier(criterion='gini',class_weight={0:0.17,1:0.83},random_state=1)\n",
    "dt = dtree.fit(X_train, y_train)\n",
    "print (pd.DataFrame(dt.feature_importances_, columns = [\"Imp\"], index = X_train.columns).sort_values(by = 'Imp', ascending = False))"
   ]
  },
  {
   "cell_type": "code",
   "execution_count": null,
   "metadata": {
    "id": "GGNFe07__2OK"
   },
   "outputs": [],
   "source": [
    "feature_names = X_train.columns"
   ]
  },
  {
   "cell_type": "code",
   "execution_count": null,
   "metadata": {
    "colab": {
     "base_uri": "https://localhost:8080/",
     "height": 1000
    },
    "id": "XZwn7Ptt_2OK",
    "outputId": "4805777e-90d0-44cf-e53a-83c76990191f"
   },
   "outputs": [],
   "source": [
    "importances = dt.feature_importances_\n",
    "indices = np.argsort(importances)\n",
    "\n",
    "plt.figure(figsize=(12,12))\n",
    "plt.title('Feature Importances')\n",
    "plt.barh(range(len(indices)), importances[indices], color='violet', align='center')\n",
    "plt.yticks(range(len(indices)), [feature_names[i] for i in indices])\n",
    "plt.xlabel('Relative Importance')\n",
    "plt.show()"
   ]
  },
  {
   "cell_type": "markdown",
   "metadata": {
    "id": "eagBdok-_2OK"
   },
   "source": [
    "* `OverTime` is the most important feature for prediction followed by `TotalWorkingYears`, `Age`, and `MonthlyIncome`."
   ]
  },
  {
   "cell_type": "markdown",
   "metadata": {
    "id": "nE7gSgQ1vJpd"
   },
   "source": [
    "## Business Insights and Recommendations"
   ]
  },
  {
   "cell_type": "markdown",
   "metadata": {
    "id": "fWb3l7D-_2OK"
   },
   "source": [
    "* Factors that drive attrition - `OverTime`, `TotalWorkingYears`, `Age`, and `MonthlyIncome`.\n",
    "* `Overtime`: Those employees who have to work overtime are the ones who attrite more - the company can provide some additional incentives to such employees to retain them.\n",
    "* `TotalWorkingYears`: Those employees having higher total working hours are having higher chances of attrition.\n",
    "* `Age`: Younger employees are the ones that attrite more- the company can make sure the new joiners have a friendly environment and better opportunities for excelling in their career.\n",
    "* `Monthly Income`: Employees with lower income attrite more, which is also logical as they might get offers with higher pay in different organizations - the company should make sure that all employees are compensated based on industry standards.\n",
    "\n",
    "* As work-related travel frequency increases, Attrition rate also increases - the company should\n",
    "\n",
    "* Training doesn't seem to have an impact on attrition- the company needs to investigate more here, if training does not impact employee retention then better cost planning can be done.\n",
    "\n",
    "* Employee with more experience and the employees working for most years in the company is the loyal one's and having low attrition.\n",
    "\n",
    "* Highest attrition is in the Sales department more research should go into this to check what is wrong in the sales department?\n",
    "\n",
    "* Our data collection technique is working well as the ratings given by employees in -Environment Satisfaction, Job Satisfaction, Relationship Satisfaction, and Work-Life Balance shows a difference significant difference between attriting and non-attriting employees. These scales can act as a preliminary step to understand the dissatisfaction of employees - Lower the rating higher are the chances of attrition."
   ]
  },
  {
   "cell_type": "markdown",
   "metadata": {
    "id": "yjXUSf4fyqFX"
   },
   "source": [
    "## <a name='link1'>Appendix: Detailed Exploratory Data Analysis (EDA)</a>"
   ]
  },
  {
   "cell_type": "markdown",
   "metadata": {
    "id": "Cv1dozvwyEYl"
   },
   "source": [
    "### Univariate analysis"
   ]
  },
  {
   "cell_type": "markdown",
   "metadata": {
    "id": "4Ba9jiKXyEYl"
   },
   "source": [
    "### Observations on Age"
   ]
  },
  {
   "cell_type": "code",
   "execution_count": null,
   "metadata": {
    "colab": {
     "base_uri": "https://localhost:8080/",
     "height": 850
    },
    "id": "B7F9SzpFyEYm",
    "outputId": "fe2015fc-250a-42a3-9afe-a3f468097f78"
   },
   "outputs": [],
   "source": [
    "histogram_boxplot(df,'Age')"
   ]
  },
  {
   "cell_type": "markdown",
   "metadata": {
    "id": "NMVUU6YgyEYm"
   },
   "source": [
    "* Age is looking normally distributed, with a hint of right skew."
   ]
  },
  {
   "cell_type": "markdown",
   "metadata": {
    "id": "6CR-U0xgyEYm"
   },
   "source": [
    "### Observations on DailyRate"
   ]
  },
  {
   "cell_type": "code",
   "execution_count": null,
   "metadata": {
    "colab": {
     "base_uri": "https://localhost:8080/",
     "height": 850
    },
    "id": "vYKqEj3RyEYm",
    "outputId": "f5ea8aa5-a915-457f-a3ed-ca41ef27dbdf"
   },
   "outputs": [],
   "source": [
    "histogram_boxplot(df,'DailyRate')"
   ]
  },
  {
   "cell_type": "markdown",
   "metadata": {
    "id": "UdvDNPT0yEYm"
   },
   "source": [
    "* The daily rate has a fairly uniform distribution with a mean and median at 800."
   ]
  },
  {
   "cell_type": "markdown",
   "metadata": {
    "id": "JTHqBbsAyEYm"
   },
   "source": [
    "### Observations on DistanceFromHome"
   ]
  },
  {
   "cell_type": "code",
   "execution_count": null,
   "metadata": {
    "colab": {
     "base_uri": "https://localhost:8080/",
     "height": 850
    },
    "id": "BuHXiokryEYm",
    "outputId": "a98ff14c-5428-426c-808a-6d4f7fee0e8d"
   },
   "outputs": [],
   "source": [
    "histogram_boxplot(df,'DistanceFromHome')"
   ]
  },
  {
   "cell_type": "markdown",
   "metadata": {
    "id": "sHBrB1mjyEYm"
   },
   "source": [
    "* This is a right-skewed distribution.\n",
    "* Most people live close to work but we do have some employees that live at a distance."
   ]
  },
  {
   "cell_type": "markdown",
   "metadata": {
    "id": "PPNUiewyyEYm"
   },
   "source": [
    "### Observations on HourlyRate"
   ]
  },
  {
   "cell_type": "code",
   "execution_count": null,
   "metadata": {
    "colab": {
     "base_uri": "https://localhost:8080/",
     "height": 850
    },
    "id": "YP2PD7X1yEYm",
    "outputId": "bd57d0bd-abc2-4f83-8166-eafb4e551b08"
   },
   "outputs": [],
   "source": [
    "histogram_boxplot(df,'HourlyRate')"
   ]
  },
  {
   "cell_type": "markdown",
   "metadata": {
    "id": "PVMvV3CTyEYm"
   },
   "source": [
    "* Quite inline with the daily rate, the hourly rate is also fairly uniformly distributed with mean and median at 65."
   ]
  },
  {
   "cell_type": "markdown",
   "metadata": {
    "id": "zDOcvDvwyEYm"
   },
   "source": [
    "### Observations on MonthlyIncome"
   ]
  },
  {
   "cell_type": "code",
   "execution_count": null,
   "metadata": {
    "colab": {
     "base_uri": "https://localhost:8080/",
     "height": 850
    },
    "id": "W1dKtWkLyEYm",
    "outputId": "e5f809d2-dd59-4c40-9fb6-09f7e89b7cc2"
   },
   "outputs": [],
   "source": [
    "histogram_boxplot(df,'MonthlyIncome')"
   ]
  },
  {
   "cell_type": "markdown",
   "metadata": {
    "id": "As5KvxR_yEYm"
   },
   "source": [
    "* Income distribution across a unit is almost always right-skewed and similar is the case here.\n",
    "* As expected, from the boxplot we can see that there are a few outliers who earn much higher than the rest of the employees."
   ]
  },
  {
   "cell_type": "markdown",
   "metadata": {
    "id": "5WgMYLA5yEYn"
   },
   "source": [
    "### Observations on MonthlyRate"
   ]
  },
  {
   "cell_type": "code",
   "execution_count": null,
   "metadata": {
    "colab": {
     "base_uri": "https://localhost:8080/",
     "height": 850
    },
    "id": "rZ6bGSTWyEYn",
    "outputId": "63cb1ef7-d6cd-4843-ce5d-0ff3c4043d55"
   },
   "outputs": [],
   "source": [
    "histogram_boxplot(df,'MonthlyRate')"
   ]
  },
  {
   "cell_type": "markdown",
   "metadata": {
    "id": "lITKPP-LyEYn"
   },
   "source": [
    "* Monthly rate also has a uniform distribution with mean and median close to 14500."
   ]
  },
  {
   "cell_type": "markdown",
   "metadata": {
    "id": "5XIh-c5byEYn"
   },
   "source": [
    "### Observations on NumCompaniesWorked"
   ]
  },
  {
   "cell_type": "code",
   "execution_count": null,
   "metadata": {
    "colab": {
     "base_uri": "https://localhost:8080/",
     "height": 850
    },
    "id": "sq_gPV2ZyEYn",
    "outputId": "67069406-6079-4c9d-c6ae-d3ff2920863d"
   },
   "outputs": [],
   "source": [
    "histogram_boxplot(df,'NumCompaniesWorked')"
   ]
  },
  {
   "cell_type": "markdown",
   "metadata": {
    "id": "sHk45TwLyEYn"
   },
   "source": [
    "* On average, people have worked at 2.5 companies. Median is 2.\n",
    "* Most people have worked at only 1 company.\n",
    "* Nearly 350 employees have worked at 0 companies, clearly this means this variable indicates the number of companies worked at before joining ours.\n",
    "* There is an outlier employee who has changed 9 companies."
   ]
  },
  {
   "cell_type": "markdown",
   "metadata": {
    "id": "C-zBVPDcyEYn"
   },
   "source": [
    "### Observations on PercentSalaryHike"
   ]
  },
  {
   "cell_type": "code",
   "execution_count": null,
   "metadata": {
    "colab": {
     "base_uri": "https://localhost:8080/",
     "height": 850
    },
    "id": "cqIDaCPXyEYn",
    "outputId": "32ca359b-4975-43b6-a41b-c617039de95d"
   },
   "outputs": [],
   "source": [
    "histogram_boxplot(df,'PercentSalaryHike')"
   ]
  },
  {
   "cell_type": "markdown",
   "metadata": {
    "id": "kBGzhuXYyEYn"
   },
   "source": [
    "* Salary hike is Right skewed. We shall check later if the hike percentage is a function of performance rating or job level.\n",
    "* Mean percentage salary hike is 15%."
   ]
  },
  {
   "cell_type": "markdown",
   "metadata": {
    "id": "OYFZgI7TyEYn"
   },
   "source": [
    "### Observations on TotalWorkingYears"
   ]
  },
  {
   "cell_type": "code",
   "execution_count": null,
   "metadata": {
    "colab": {
     "base_uri": "https://localhost:8080/",
     "height": 850
    },
    "id": "l8q54VsjyEYn",
    "outputId": "7a90a3bd-492c-4f4e-bbe3-721d168a1fe2"
   },
   "outputs": [],
   "source": [
    "histogram_boxplot(df,'TotalWorkingYears')"
   ]
  },
  {
   "cell_type": "markdown",
   "metadata": {
    "id": "0dQm9LmHyEYn"
   },
   "source": [
    "* Age of the employees had a hint of right skew but work experience has a significant right skew.\n",
    "* From the boxplot, we can observe that this variable contains a few outliers also."
   ]
  },
  {
   "cell_type": "markdown",
   "metadata": {
    "id": "dqKOD3HVyEYn"
   },
   "source": [
    "### Observations on YearsAtCompany"
   ]
  },
  {
   "cell_type": "code",
   "execution_count": null,
   "metadata": {
    "colab": {
     "base_uri": "https://localhost:8080/",
     "height": 850
    },
    "id": "dnvv_mukyEYn",
    "outputId": "a8cb939b-136b-455e-f862-033b818e7d61"
   },
   "outputs": [],
   "source": [
    "histogram_boxplot(df,'YearsAtCompany')"
   ]
  },
  {
   "cell_type": "markdown",
   "metadata": {
    "id": "UYV7JHoOyEYn"
   },
   "source": [
    "* Significant right skew in the data.\n",
    "* The outliers are probably the most loyal employees and it suggests that they would be less likely to attrite."
   ]
  },
  {
   "cell_type": "markdown",
   "metadata": {
    "id": "aAhnAC_lyEYn"
   },
   "source": [
    "### Observations on YearsInCurrentRole"
   ]
  },
  {
   "cell_type": "code",
   "execution_count": null,
   "metadata": {
    "colab": {
     "base_uri": "https://localhost:8080/",
     "height": 850
    },
    "id": "1fOAUKqLyEYo",
    "outputId": "cb9a6bc5-33ea-4751-efd5-73492bbeb20a"
   },
   "outputs": [],
   "source": [
    "histogram_boxplot(df,'YearsInCurrentRole')"
   ]
  },
  {
   "cell_type": "markdown",
   "metadata": {
    "id": "HhiSth_ayEYo"
   },
   "source": [
    "* This distribution has three peaks at 0, 2, and 7.\n",
    "* There are a few outliers that have stayed in the same role for more than 15 years."
   ]
  },
  {
   "cell_type": "markdown",
   "metadata": {
    "id": "KQ7iZd1byEYo"
   },
   "source": [
    "### Observations on YearsInCurrentRole"
   ]
  },
  {
   "cell_type": "code",
   "execution_count": null,
   "metadata": {
    "colab": {
     "base_uri": "https://localhost:8080/",
     "height": 850
    },
    "id": "WfDMg1bJyEYo",
    "outputId": "89571a09-b0ec-4341-9708-3a66a20383a2"
   },
   "outputs": [],
   "source": [
    "histogram_boxplot(df,'YearsSinceLastPromotion')"
   ]
  },
  {
   "cell_type": "markdown",
   "metadata": {
    "id": "1QKgS-c1yEYo"
   },
   "source": [
    "* There are a few outliers in this right-skewed distribution, these are probably the people at the highest positions.\n",
    "* Most employees have had a promotion in the last 2 years.\n",
    "* 0 years since last promotion indicates many employees were recently promoted."
   ]
  },
  {
   "cell_type": "markdown",
   "metadata": {
    "id": "gkQXxA8QyEYo"
   },
   "source": [
    "### Observations on YearsWithCurrManager"
   ]
  },
  {
   "cell_type": "code",
   "execution_count": null,
   "metadata": {
    "colab": {
     "base_uri": "https://localhost:8080/",
     "height": 850
    },
    "id": "ifb00hCByEYo",
    "outputId": "52269c79-ca5f-471d-c8ce-f6a2216572f6"
   },
   "outputs": [],
   "source": [
    "histogram_boxplot(df,'YearsWithCurrManager')"
   ]
  },
  {
   "cell_type": "markdown",
   "metadata": {
    "id": "GjddwzV4yEYo"
   },
   "source": [
    "* This distribution is very similar to that of 'Years in current role' and that makes sense.\n",
    "* There are a few outliers in this variable."
   ]
  },
  {
   "cell_type": "markdown",
   "metadata": {
    "id": "da_PBULKyEYo"
   },
   "source": [
    "### Observations on BusinessTravel"
   ]
  },
  {
   "cell_type": "code",
   "execution_count": null,
   "metadata": {
    "colab": {
     "base_uri": "https://localhost:8080/",
     "height": 711
    },
    "id": "Q7B3uTAHyEYo",
    "outputId": "2032f624-4330-4f70-9b21-e4d4a0a6e3b1"
   },
   "outputs": [],
   "source": [
    "labeled_barplot(df, \"BusinessTravel\", perc=True)"
   ]
  },
  {
   "cell_type": "markdown",
   "metadata": {
    "id": "W7ARilcNyEYo"
   },
   "source": [
    "* 71% of the employees have travel rarely and 18.8% employees have to travel frequently."
   ]
  },
  {
   "cell_type": "markdown",
   "metadata": {
    "id": "FuqbN_4qyEYo"
   },
   "source": [
    "### Observations on Department"
   ]
  },
  {
   "cell_type": "code",
   "execution_count": null,
   "metadata": {
    "colab": {
     "base_uri": "https://localhost:8080/",
     "height": 795
    },
    "id": "cYhjmKYqyEYo",
    "outputId": "49c7d97b-95fe-40ab-f29d-d9090fda7dbc"
   },
   "outputs": [],
   "source": [
    "labeled_barplot(df, \"Department\", perc=True)"
   ]
  },
  {
   "cell_type": "markdown",
   "metadata": {
    "id": "DU0HmGZvyEYo"
   },
   "source": [
    "* 65.4% of employees in data are from R&D department followed by 30.3% in sales."
   ]
  },
  {
   "cell_type": "markdown",
   "metadata": {
    "id": "RfySQSBwyEYo"
   },
   "source": [
    "### Observations on EducationField"
   ]
  },
  {
   "cell_type": "code",
   "execution_count": null,
   "metadata": {
    "colab": {
     "base_uri": "https://localhost:8080/",
     "height": 716
    },
    "id": "X_ZAMs37yEYo",
    "outputId": "124906ad-0203-4475-c58f-727f19956b7d"
   },
   "outputs": [],
   "source": [
    "labeled_barplot(df, \"EducationField\", perc=True)"
   ]
  },
  {
   "cell_type": "markdown",
   "metadata": {
    "id": "bKSil_gSyEYo"
   },
   "source": [
    "* 41.2% of the employees are from a Life Sciences background followed by 31.6% from a medical background."
   ]
  },
  {
   "cell_type": "markdown",
   "metadata": {
    "id": "eWpJy0nSyEYp"
   },
   "source": [
    "### Observations on Gender"
   ]
  },
  {
   "cell_type": "code",
   "execution_count": null,
   "metadata": {
    "colab": {
     "base_uri": "https://localhost:8080/",
     "height": 603
    },
    "id": "R1T8JRUhyEYp",
    "outputId": "380e418f-3275-4368-cd47-dc76aa31e79d"
   },
   "outputs": [],
   "source": [
    "labeled_barplot(df, \"Gender\", perc=True)"
   ]
  },
  {
   "cell_type": "markdown",
   "metadata": {
    "id": "B-7_CE8kyEYp"
   },
   "source": [
    "* 60% of male employees and 40% of female employees."
   ]
  },
  {
   "cell_type": "markdown",
   "metadata": {
    "id": "ZojGiU20yEYp"
   },
   "source": [
    "### Observations on JobRole"
   ]
  },
  {
   "cell_type": "code",
   "execution_count": null,
   "metadata": {
    "colab": {
     "base_uri": "https://localhost:8080/",
     "height": 806
    },
    "id": "fDtlHqc8yEYp",
    "outputId": "5a31b97b-194e-4089-be59-d57cd2837b6e"
   },
   "outputs": [],
   "source": [
    "labeled_barplot(df, \"JobRole\", perc=True)"
   ]
  },
  {
   "cell_type": "markdown",
   "metadata": {
    "id": "gq7eSeB1yEYp"
   },
   "source": [
    "* 22.2% of employees are Sales Executives followed by 20% of Research Scientists."
   ]
  },
  {
   "cell_type": "markdown",
   "metadata": {
    "id": "ffxW-TtnyEYp"
   },
   "source": [
    "### Observations on MaritalStatus"
   ]
  },
  {
   "cell_type": "code",
   "execution_count": null,
   "metadata": {
    "colab": {
     "base_uri": "https://localhost:8080/",
     "height": 622
    },
    "id": "wZ2DWe-DyEYp",
    "outputId": "cd5af28e-249e-4806-c66c-ccafc1274ebe"
   },
   "outputs": [],
   "source": [
    "labeled_barplot(df, \"MaritalStatus\", perc=True)"
   ]
  },
  {
   "cell_type": "markdown",
   "metadata": {
    "id": "Yj2JmsCuyEYp"
   },
   "source": [
    "* 45.8% of the employees are married followed by 32% singles."
   ]
  },
  {
   "cell_type": "markdown",
   "metadata": {
    "id": "QnO2yyGCyEYp"
   },
   "source": [
    "### Observations on OverTime"
   ]
  },
  {
   "cell_type": "code",
   "execution_count": null,
   "metadata": {
    "colab": {
     "base_uri": "https://localhost:8080/",
     "height": 562
    },
    "id": "7Oq3v6PxyEYp",
    "outputId": "c1aeab9c-89e0-4cec-db37-847bda47a54d"
   },
   "outputs": [],
   "source": [
    "labeled_barplot(df, \"OverTime\", perc=True)"
   ]
  },
  {
   "cell_type": "markdown",
   "metadata": {
    "id": "FPDUIArOyEYp"
   },
   "source": [
    "* 71.7% of the employees are not ready to work over time."
   ]
  },
  {
   "cell_type": "markdown",
   "metadata": {
    "id": "_lbDhz3oyEYp"
   },
   "source": [
    "### Observations on Attrition"
   ]
  },
  {
   "cell_type": "code",
   "execution_count": null,
   "metadata": {
    "colab": {
     "base_uri": "https://localhost:8080/",
     "height": 562
    },
    "id": "_AgZ_ga9yEYp",
    "outputId": "3fbf21f6-0dcf-4afb-98ab-4fb718b491f1"
   },
   "outputs": [],
   "source": [
    "labeled_barplot(df, \"Attrition\", perc=True)"
   ]
  },
  {
   "cell_type": "markdown",
   "metadata": {
    "id": "pAcseFvkyEYp"
   },
   "source": [
    "* 16% of the data points represent the employees who are going to attrite."
   ]
  },
  {
   "cell_type": "markdown",
   "metadata": {
    "id": "YW5dz9jjyEYq"
   },
   "source": [
    "### Bivariate Analysis"
   ]
  },
  {
   "cell_type": "code",
   "execution_count": null,
   "metadata": {
    "colab": {
     "base_uri": "https://localhost:8080/",
     "height": 807
    },
    "id": "sOEWXVo0yEYq",
    "outputId": "8af71d63-72ae-4422-a308-ad8518eff5c4"
   },
   "outputs": [],
   "source": [
    "plt.figure(figsize=(20,10))\n",
    "sns.heatmap(df.corr(),annot=True,vmin=-1,vmax=1,fmt='.2f',cmap=\"Spectral\")\n",
    "plt.show()"
   ]
  },
  {
   "cell_type": "markdown",
   "metadata": {
    "id": "6vsLKFSTyEYq"
   },
   "source": [
    "* There are a few variables that are correlated with each other but there are no surprises here.\n",
    "* Unsurprisingly, TotalWorkingYears is highly correlated to Job Level (i.e., the longer you work the higher job level you achieve).\n",
    "* HourlyRate, DailyRate, and MonthlyRate are completely uncorrelated with each other which makes it harder to understand what these variables might represent.\n",
    "* MonthlyIncome is highly correlated to Job Level.\n",
    "* Age is positively correlated JobLevel and Education (i.e., the older an employee is, the more educated and at a higher job level they are).\n",
    "* Work-life Balance is correlated with none of the numeric values."
   ]
  },
  {
   "cell_type": "code",
   "execution_count": null,
   "metadata": {
    "colab": {
     "background_save": true
    },
    "id": "krBatDMRyEYq",
    "outputId": "4079470c-6b24-4941-9d4d-092f23ce20fa"
   },
   "outputs": [],
   "source": [
    "sns.pairplot(df,hue='Attrition')\n",
    "plt.show()"
   ]
  },
  {
   "cell_type": "markdown",
   "metadata": {
    "id": "bDtHQnuZyEYq"
   },
   "source": [
    "* We can see varying distributions in variables for Attrition, we should investigate it further."
   ]
  },
  {
   "cell_type": "markdown",
   "metadata": {
    "id": "gV5Ps-R3yEYq"
   },
   "source": [
    "### Attrition vs Earnings of employee"
   ]
  },
  {
   "cell_type": "code",
   "execution_count": null,
   "metadata": {
    "colab": {
     "base_uri": "https://localhost:8080/",
     "height": 1000
    },
    "id": "oXI1oViRyEYq",
    "outputId": "1061c4e4-7f08-4ba0-9372-e70920785401"
   },
   "outputs": [],
   "source": [
    "cols = df[['DailyRate','HourlyRate','MonthlyRate','MonthlyIncome','PercentSalaryHike']].columns.tolist()\n",
    "plt.figure(figsize=(10,10))\n",
    "\n",
    "for i, variable in enumerate(cols):\n",
    "                     plt.subplot(3,2,i+1)\n",
    "                     sns.boxplot(x = df[\"Attrition\"],y = df[variable],palette=\"PuBu\")\n",
    "                     plt.tight_layout()\n",
    "                     plt.title(variable)\n",
    "plt.show()"
   ]
  },
  {
   "cell_type": "markdown",
   "metadata": {
    "id": "JjdoNzJcyEYq"
   },
   "source": [
    "* Employees having lower Daily rate and less monthly wage are more likely to attrite.\n",
    "* Monthly rate and the hourly rate doesn't seem to have any effect on attrition.\n",
    "* Lesser salary hike also contributes to attrition."
   ]
  },
  {
   "cell_type": "markdown",
   "metadata": {
    "id": "XyKzANIgyEYq"
   },
   "source": [
    "### Attrition vs Years working in company"
   ]
  },
  {
   "cell_type": "code",
   "execution_count": null,
   "metadata": {
    "colab": {
     "base_uri": "https://localhost:8080/",
     "height": 1000
    },
    "id": "lLjjiYsiyEYq",
    "outputId": "b16452e5-98e1-4f9b-8572-725c81277b5b"
   },
   "outputs": [],
   "source": [
    "cols = df[['YearsAtCompany', 'YearsInCurrentRole',\n",
    "       'YearsSinceLastPromotion', 'YearsWithCurrManager','TrainingTimesLastYear']].columns.tolist()\n",
    "plt.figure(figsize=(10,10))\n",
    "\n",
    "for i, variable in enumerate(cols):\n",
    "                     plt.subplot(3,2,i+1)\n",
    "                     sns.boxplot(x= df[\"Attrition\"],y = df[variable],palette=\"PuBu\")\n",
    "                     plt.tight_layout()\n",
    "                     plt.title(variable)\n",
    "plt.show()"
   ]
  },
  {
   "cell_type": "markdown",
   "metadata": {
    "id": "jG48GUJayEYq"
   },
   "source": [
    "* Those employees who have spent less time at a company, in a current role or with a manager have higher chances of attriting.\n",
    "* Training doesn't seem to have an impact on Attrition."
   ]
  },
  {
   "cell_type": "markdown",
   "metadata": {
    "id": "UZQx9yyqyEYq"
   },
   "source": [
    "### Attrition vs Previous job roles"
   ]
  },
  {
   "cell_type": "code",
   "execution_count": null,
   "metadata": {
    "colab": {
     "base_uri": "https://localhost:8080/",
     "height": 379
    },
    "id": "O8pA6MUyyEYq",
    "outputId": "977c1a94-9742-4db9-e749-e1561e6c7ce3"
   },
   "outputs": [],
   "source": [
    "cols = df[['NumCompaniesWorked','TotalWorkingYears']].columns.tolist()\n",
    "plt.figure(figsize=(10,10))\n",
    "\n",
    "for i, variable in enumerate(cols):\n",
    "                     plt.subplot(3,2,i+1)\n",
    "                     sns.boxplot(x = df[\"Attrition\"],y = df[variable],palette=\"PuBu\")\n",
    "                     plt.tight_layout()\n",
    "                     plt.title(variable)\n",
    "plt.show()"
   ]
  },
  {
   "cell_type": "markdown",
   "metadata": {
    "id": "J2UFE4FRyEYq"
   },
   "source": [
    "* Employees who have worked in more companies generally tend to switch more jobs hence attriting.\n",
    "* Employees who attrite generally have lesser years of experience."
   ]
  },
  {
   "cell_type": "code",
   "execution_count": null,
   "metadata": {
    "colab": {
     "base_uri": "https://localhost:8080/",
     "height": 714
    },
    "id": "WzYX0bbQyEYq",
    "outputId": "62d97f2c-d7d3-4311-9d0a-7f06d8dbf9fa"
   },
   "outputs": [],
   "source": [
    "cols = df[['Age','DistanceFromHome','Education']].columns.tolist()\n",
    "plt.figure(figsize=(10,10))\n",
    "\n",
    "for i, variable in enumerate(cols):\n",
    "                     plt.subplot(3,2,i+1)\n",
    "                     sns.boxplot(x = df[\"Attrition\"],y = df[variable],palette=\"PuBu\")\n",
    "                     plt.tight_layout()\n",
    "                     plt.title(variable)\n",
    "plt.show()"
   ]
  },
  {
   "cell_type": "markdown",
   "metadata": {
    "id": "7GVc0HqlyEYr"
   },
   "source": [
    "* Employees who have to travel a more distance from their home attrite more.\n",
    "* There is no difference in age and education of attriting and non-attriting employees."
   ]
  },
  {
   "cell_type": "code",
   "execution_count": null,
   "metadata": {
    "colab": {
     "base_uri": "https://localhost:8080/",
     "height": 700
    },
    "id": "6q8NePdwyEYr",
    "outputId": "0c438680-9922-4433-943c-01ca3a08c366"
   },
   "outputs": [],
   "source": [
    "stacked_barplot(df, \"BusinessTravel\", \"Attrition\")"
   ]
  },
  {
   "cell_type": "markdown",
   "metadata": {
    "id": "4sTj8eW1yEYr"
   },
   "source": [
    "* As the travel frequency increases, the Attrition rate increases.\n",
    "* There's ~22% probability of employees attriting who travel frequently."
   ]
  },
  {
   "cell_type": "code",
   "execution_count": null,
   "metadata": {
    "colab": {
     "base_uri": "https://localhost:8080/",
     "height": 754
    },
    "id": "l6rWzh03yEYr",
    "outputId": "309b3a99-48ab-4155-a9fa-224cdf6033fb"
   },
   "outputs": [],
   "source": [
    "stacked_barplot(df, \"Department\", \"Attrition\")"
   ]
  },
  {
   "cell_type": "markdown",
   "metadata": {
    "id": "WMCxCsBuyEYr"
   },
   "source": [
    "* We saw earlier that majority of the employees work for the R&D department. The probability of attrition is least there.\n",
    "* Both Sales and HR have similar Attrition probability."
   ]
  },
  {
   "cell_type": "code",
   "execution_count": null,
   "metadata": {
    "colab": {
     "base_uri": "https://localhost:8080/",
     "height": 757
    },
    "id": "-F_y-36PyEYr",
    "outputId": "d78800bd-1973-45ef-8578-d1ad68a335c8"
   },
   "outputs": [],
   "source": [
    "stacked_barplot(df,\"EducationField\",\"Attrition\")"
   ]
  },
  {
   "cell_type": "markdown",
   "metadata": {
    "id": "O_OM1gvFyEYr"
   },
   "source": [
    "* 25% of employees educated in human resources attrite.\n",
    "* Attrition probability is also high in the case of marketing and technical degree holders."
   ]
  },
  {
   "cell_type": "code",
   "execution_count": null,
   "metadata": {
    "colab": {
     "base_uri": "https://localhost:8080/",
     "height": 605
    },
    "id": "cwxsRpJ4yEYr",
    "outputId": "bb338650-9387-440f-b949-e7769d27b023"
   },
   "outputs": [],
   "source": [
    "stacked_barplot(df,\"EnvironmentSatisfaction\",\"Attrition\")"
   ]
  },
  {
   "cell_type": "markdown",
   "metadata": {
    "id": "fv2iGm2FyEYr"
   },
   "source": [
    "* Employees who say they have low satisfaction with their work environments are likely to attrite.\n",
    "* There's a ~40% probability of attrition among employees with low ratings for environment satisfaction."
   ]
  },
  {
   "cell_type": "code",
   "execution_count": null,
   "metadata": {
    "colab": {
     "base_uri": "https://localhost:8080/",
     "height": 605
    },
    "id": "EYvdHaQRyEYr",
    "outputId": "02632e7b-d975-4c0e-979d-1499bf52edca"
   },
   "outputs": [],
   "source": [
    "stacked_barplot(df,\"JobInvolvement\",\"Attrition\")"
   ]
  },
  {
   "cell_type": "markdown",
   "metadata": {
    "id": "gECgBPQoyEYr"
   },
   "source": [
    "* Job Involvement looks like a very strong indicator of attrition.\n",
    "* Higher the job involvement, greater is the chance that the employee will stay with us and not attrite.\n",
    "* Employees unhappy with their job involment have ~55% probability of attriting (those who rated 0 and 1).\n",
    "* Further investigation to understand how this variable was collected will give more insights."
   ]
  },
  {
   "cell_type": "code",
   "execution_count": null,
   "metadata": {
    "colab": {
     "base_uri": "https://localhost:8080/",
     "height": 623
    },
    "id": "AT1SrO5OyEYr",
    "outputId": "d71b243b-2c54-46dc-9669-ebf6dddb4df8"
   },
   "outputs": [],
   "source": [
    "stacked_barplot(df,\"JobLevel\",\"Attrition\")"
   ]
  },
  {
   "cell_type": "markdown",
   "metadata": {
    "id": "68XUulmbyEYr"
   },
   "source": [
    "* The trend is not very clear here, but it is visible that people at lower job levels are more likely to attrite."
   ]
  },
  {
   "cell_type": "code",
   "execution_count": null,
   "metadata": {
    "colab": {
     "base_uri": "https://localhost:8080/",
     "height": 871
    },
    "id": "EkBfjbknyEYr",
    "outputId": "4e5529e2-5e88-4e59-9f7a-bbb2c06d582f"
   },
   "outputs": [],
   "source": [
    "stacked_barplot(df,\"JobRole\",\"Attrition\")"
   ]
  },
  {
   "cell_type": "markdown",
   "metadata": {
    "id": "WzvCfpGYyEYr"
   },
   "source": [
    "* Sales Executives have an attrition probability of >40%.\n",
    "* Laboratory Technicians and Human Resource personnel also have high probabilities of attrition.\n",
    "* Attrition probability among Research Directors, Manufacturing directors Healthcare representatives, and Managers is much lower than the average attrition probability of 16%."
   ]
  },
  {
   "cell_type": "code",
   "execution_count": null,
   "metadata": {
    "colab": {
     "base_uri": "https://localhost:8080/",
     "height": 605
    },
    "id": "XhXPxwLNyEYs",
    "outputId": "f2f7c722-ddd9-47f7-c3cf-20e3a192ceca"
   },
   "outputs": [],
   "source": [
    "stacked_barplot(df,\"JobSatisfaction\",\"Attrition\")"
   ]
  },
  {
   "cell_type": "markdown",
   "metadata": {
    "id": "xwHtQVGXyEYs"
   },
   "source": [
    "* As Job satisfaction increases, attrition probability decreases. This is intuitive but the attrition probability of people who rate 2 and 3 being almost the same is peculiar."
   ]
  },
  {
   "cell_type": "code",
   "execution_count": null,
   "metadata": {
    "colab": {
     "base_uri": "https://localhost:8080/",
     "height": 640
    },
    "id": "I5pzzKEZyEYs",
    "outputId": "c13c0758-e499-47d0-f60c-d47cecbc177d"
   },
   "outputs": [],
   "source": [
    "stacked_barplot(df,\"MaritalStatus\",\"Attrition\")"
   ]
  },
  {
   "cell_type": "markdown",
   "metadata": {
    "id": "_d6__dxMyEYs"
   },
   "source": [
    "* Singles attrite more than married and divorced employees.\n",
    "* One of the reasons here can be that single employees are younger and tend to explore different jobs."
   ]
  },
  {
   "cell_type": "code",
   "execution_count": null,
   "metadata": {
    "colab": {
     "base_uri": "https://localhost:8080/",
     "height": 582
    },
    "id": "vDHuSt6-yEYs",
    "outputId": "84f79ab4-1816-40b1-f591-4aa9c91770ae"
   },
   "outputs": [],
   "source": [
    "stacked_barplot(df,\"OverTime\",\"Attrition\")"
   ]
  },
  {
   "cell_type": "markdown",
   "metadata": {
    "id": "K5tsj3NdyEYs"
   },
   "source": [
    "* Employees who work overtime tend to attrite more.\n",
    "* There a ~35% probability of attrition among employees working overtime."
   ]
  },
  {
   "cell_type": "code",
   "execution_count": null,
   "metadata": {
    "colab": {
     "base_uri": "https://localhost:8080/",
     "height": 605
    },
    "id": "RsvvuvoLyEYs",
    "outputId": "231fe8c7-e443-4eff-97d2-35a8765662b1"
   },
   "outputs": [],
   "source": [
    "stacked_barplot(df,\"RelationshipSatisfaction\",\"Attrition\")"
   ]
  },
  {
   "cell_type": "markdown",
   "metadata": {
    "id": "FvwM-ny1yEYs"
   },
   "source": [
    "* Low relationship satisfaction rating does indicate more probability of attrition, but we need to investigate further which relationships do this variable indicate."
   ]
  },
  {
   "cell_type": "code",
   "execution_count": null,
   "metadata": {
    "colab": {
     "base_uri": "https://localhost:8080/",
     "height": 605
    },
    "id": "schqwD61yEYs",
    "outputId": "c831a763-7b0b-4b25-e3f5-d3c9511eeaf7"
   },
   "outputs": [],
   "source": [
    "stacked_barplot(df,\"StockOptionLevel\",\"Attrition\")"
   ]
  },
  {
   "cell_type": "markdown",
   "metadata": {
    "id": "xd2MVsN2yEYs"
   },
   "source": [
    "* ~22% Employees with highest and lowest stock options attrite the more than others.\n",
    "* Company should investigate more on why employees with highest stock options are attriting and take this as an opportunity to re-consider their stocks policy."
   ]
  },
  {
   "cell_type": "code",
   "execution_count": null,
   "metadata": {
    "colab": {
     "base_uri": "https://localhost:8080/",
     "height": 605
    },
    "id": "DJArmAe_yEYs",
    "outputId": "eae001b6-3c8a-485c-8c97-07883bebdd12"
   },
   "outputs": [],
   "source": [
    "stacked_barplot(df,\"WorkLifeBalance\",\"Attrition\")"
   ]
  },
  {
   "cell_type": "markdown",
   "metadata": {
    "id": "5A6YdqmJyEYs"
   },
   "source": [
    "* Low work-life balance rating leads people to attrite, this is a good factor to preempt at attrition risk employees."
   ]
  },
  {
   "cell_type": "markdown",
   "metadata": {
    "id": "2n0ykFC3yEYs"
   },
   "source": [
    "**Checking if performace rating and salary hike are related-**"
   ]
  },
  {
   "cell_type": "code",
   "execution_count": null,
   "metadata": {
    "colab": {
     "base_uri": "https://localhost:8080/",
     "height": 449
    },
    "id": "Ndp8lmjjyEYs",
    "outputId": "9cca41c7-7c15-448c-fb74-2806837ce9e0"
   },
   "outputs": [],
   "source": [
    "sns.boxplot(x = df['PerformanceRating'],y = df['PercentSalaryHike'])\n",
    "plt.show()"
   ]
  },
  {
   "cell_type": "code",
   "execution_count": null,
   "metadata": {
    "colab": {
     "base_uri": "https://localhost:8080/",
     "height": 465
    },
    "id": "X_n5yz77yEYt",
    "outputId": "f5ac1088-229f-40cf-a13c-a0a632789748",
    "scrolled": true
   },
   "outputs": [],
   "source": [
    "plt.figure(figsize=(15,5))\n",
    "sns.boxplot(x = df['PerformanceRating'],y = df['PercentSalaryHike'],hue=df['JobRole'])\n",
    "plt.show()"
   ]
  },
  {
   "cell_type": "markdown",
   "metadata": {
    "id": "xIRfbnSFyEYt"
   },
   "source": [
    "**Observations-**\n",
    "* Salary hikes are a function of Performance ratings.\n",
    "* We have to investigate why the employees who get Excellent(3) and Outstanding(4) Performance rating attrite and how then can they be retained."
   ]
  },
  {
   "cell_type": "markdown",
   "metadata": {
    "id": "doDfzWCpyEYt"
   },
   "source": [
    "### <a id='link1'>Summary of EDA</a>\n",
    "**Data Description:**\n",
    "\n",
    "* The dataset has 2940 rows and 35 columns of data.\n",
    "* There are no null values in the dataset.\n",
    "* Attrition, BusinessTravel, Department, EducationField, Gender, JobRole, MaritalStatus, Over18, OverTime are of object data type while others are of integer data type.\n",
    "\n",
    "**Data Cleaning:**\n",
    "\n",
    "* EmployeeNumber is an ID variable and not useful for predictive modeling.\n",
    "* EmployeeCount has only 1 as the value in all the rows and can be dropped as it will not be adding any information to our analysis.\n",
    "* Standard Hours has only 80 as the value in all the rows and can be dropped as it will not be adding any information to our analysis.\n",
    "* As all the employees are aged more than 18, hence all the values in the Over18 column are 1. This variable was dropped.\n",
    "\n",
    "**Observations from EDA:**\n",
    "\n",
    "* `age`: The variable Age is normally distributed with an average equal to 37 years. Age is positively correlated JobLevel and Education (i.e., the older an employee is, the more educated and at a higher job level they are).\n",
    "* `DailyRate`: It is having a fairly uniform distribution with an average of 800. Employees having lower Daily rates and less monthly wage are more likely to attrite.\n",
    "* `DistanceFromHome`: This shows a right-skewed distribution. Most people stay at a close distance from home with few also leaving away from work. Employees who have to travel a more distance from their home attrite more.\n",
    "* `HourlyRate`: It is an almost uniformly distributed variable. It has mean and median approx equal to 65. The hourly rate doesn't have much impact on attrition.\n",
    "* `MonthlyIncome`: Monthly Income distribution is almost right-skewed. Few employees are earning much higher than the rest of the employees.  MonthlyIncome is highly correlated to Job Level (0.95).\n",
    "* `MonthlyRate`: It is a uniformly distributed variable with a median close to 14500. The monthly rate doesn't have much impact on attrition.\n",
    "* `NumCompaniesWorked`: On average people have worked at 2.5 companies with a median of 2 companies. The majority of people have worked in only one company. Approx 350 people are freshers. There are employees worked at 9 companies. They will be the outliers.\n",
    "* `PercentSalaryHike`:  It has a right-skewed distribution. It is correlated with performance rating with a coefficient of 0.77. Lesser salary hike also contributes to attrition.\n",
    "* `TotalWorkingYears`: Work experience is having a significant right skew. It also contains few outliers.\n",
    "* `YearsAtCompany`: Significantly skewed towards the right. Also contains outliers.\n",
    "* `YearsInCurrentRole`: It is having few outliers. The lower whisker coincides with the first quartile.\n",
    "* `YearsWithCurrManager`: It is a right-skewed variable with few outliers too.\n",
    "* `BusinessTravel`: Almost 71% of employees have travel rarely and 19% travel frequently. As the travel frequency increases of an employee increases, the Attrition rate increases. There's a ~22% probability of employees attriting who travel frequently.\n",
    "* `Department`: The R&D department consists of almost 65% of employees.\n",
    "* `EducationField`:People with Life science background is dominant over others with almost 41% count.\n",
    "* `Gender`: 60% of people are male while the rest are female.\n",
    "* `JobRole`: Almost 22% of people are sales executives followed by 20% research scientists.\n",
    "* `MaritalStatus`: Almost 46% of people are married and 32% are single.\n",
    "* `OverTime`: Only almost 29% of people are ready to do overtime. Employees who work overtime tend to attrite more. There a ~35% probability of attrition among employees working overtime.\n",
    "* `Attrition`: There's an imbalance in the data with 16% of the employees attriting and rest not.\n",
    "\n",
    "\n",
    "\n",
    "* **Attrition vs Earnings of employee**:\n",
    "    * Employees having lower Daily rates and less monthly wage are more likely to attrite.\n",
    "    * Monthly rate and the hourly rate doesn't seem to have any effect on attrition.\n",
    "    * Lesser salary hike also contributes to attrition.\n",
    "\n",
    "* **Attrition vs Years working in company**\n",
    "    * Those employees who have spent less time at a company, in a current role, or with a manager have higher chances of attriting.\n",
    "    * Training doesn't seem to have an impact on Attrition.\n",
    "\n",
    "* **Attrition vs Previous job roles**\n",
    "    * Employees who have worked in more companies generally tend to switch more jobs hence attriting.\n",
    "    * Employees who attrite generally have lesser years of experience.\n",
    "\n",
    "*  **Attrition vs Department, Job Role and Education**\n",
    "    * Majority of the employees work for the R&D department. The probability of attrition is least there.\n",
    "    * Both Sales and HR have similar Attrition probability.\n",
    "    * Sales Executives have an attrition probability of >40%.\n",
    "    * Laboratory Technicians and Human Resource personnel also have high probabilities of attrition.\n",
    "    * Attrition probability among Research Directors, Manufacturing directors Healthcare representatives, and Managers are much lower than the average attrition probability of 16%.\n",
    "    * 25% of employees educated in human resources attrite.\n",
    "    * Attrition probability is also high in the case of marketing and technical degree holders.\n",
    "\n",
    "\n",
    "* Employees who say they have low satisfaction with their work environments are likely to attrite.\n",
    "* There's a ~40% probability of attrition among employees with low ratings for environment satisfaction.\n",
    "\n",
    "* Job Involvement looks like a very strong indicator of attrition.\n",
    "* Higher the job involvement, greater is the chance that the employee will stay with us and not attrite.\n",
    "* Employees unhappy with their job involvement have ~55% probability of attriting (those who rated 0 and 1).\n",
    "* Further investigation to understand how this variable was collected will give more insights.\n",
    "\n",
    "* Salary hikes are a function of Performance ratings.\n",
    "* We have to investigate why the employees who get Excellent(3) and Outstanding(4) Performance rating attrite and how then can they be retained."
   ]
  },
  {
   "cell_type": "markdown",
   "metadata": {
    "id": "IHZcaTQByxlt"
   },
   "source": [
    "### To jump back to the EDA summary section, click <a href = #link2>here</a>."
   ]
  }
 ],
 "metadata": {
  "colab": {
   "collapsed_sections": [
    "a9ZMNfUNhU14",
    "yt0TxgANCKgL",
    "kUJ_B5KxhU3D",
    "7Rwx-1ZuhU3D",
    "2tMrwBrN_2N1",
    "yUFjD85Y_2N2",
    "nj0Gyj4o_2N4",
    "O8MKuBkj_2N5",
    "beo_tDmVhU3-",
    "xj_mN-xOTByQ",
    "eiqqkGG1_2N6",
    "uKTNwQ2q_2N7",
    "XH2OxsSFxGaE",
    "pX8fUIz7v5lb",
    "0L-oAMItxLP-",
    "T4Ys5BOD_2OB",
    "U_imjVzRxLQC",
    "jjgBr32Y_2OD",
    "HMVUwb_2_2OE",
    "9CkKzJQz_2OF",
    "ujdCAo8R_2OG",
    "OrqEYuVX5M0I",
    "RYCbh6wp4XOu",
    "Cv1dozvwyEYl",
    "doDfzWCpyEYt",
    "IHZcaTQByxlt"
   ],
   "provenance": []
  },
  "kernelspec": {
   "display_name": "Python 3 (ipykernel)",
   "language": "python",
   "name": "python3"
  },
  "language_info": {
   "codemirror_mode": {
    "name": "ipython",
    "version": 3
   },
   "file_extension": ".py",
   "mimetype": "text/x-python",
   "name": "python",
   "nbconvert_exporter": "python",
   "pygments_lexer": "ipython3",
   "version": "3.11.7"
  }
 },
 "nbformat": 4,
 "nbformat_minor": 4
}
